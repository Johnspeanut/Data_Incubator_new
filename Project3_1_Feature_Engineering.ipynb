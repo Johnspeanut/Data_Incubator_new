{
 "cells": [
  {
   "cell_type": "code",
   "execution_count": 86,
   "metadata": {
    "collapsed": true
   },
   "outputs": [],
   "source": [
    "import numpy as np\n",
    "import pandas as pd\n",
    "import matplotlib.pyplot as plt\n",
    "import sklearn as sk\n",
    "%matplotlib inline\n",
    "import datetime\n",
    "import os\n",
    "import seaborn as sns\n",
    "from pandas import ExcelWriter\n",
    "from pandas import ExcelFile"
   ]
  },
  {
   "cell_type": "code",
   "execution_count": 56,
   "metadata": {},
   "outputs": [],
   "source": [
    "df_location=pd.read_csv('geocodedData added and fixed987___with_location.csv')\n",
    "df_unit=pd.read_excel(\"Rental Survey Data 2017 Raw Units.xlsx\")\n",
    "df_facility=pd.read_excel(\"tblFacilitiesFY2015.xlsx\")\n"
   ]
  },
  {
   "cell_type": "markdown",
   "metadata": {},
   "source": [
    "## Merge the tables"
   ]
  },
  {
   "cell_type": "code",
   "execution_count": 57,
   "metadata": {
    "collapsed": true
   },
   "outputs": [],
   "source": [
    "unit_facility=pd.merge(df_facility, df_location, on = 'LicenseNumber', how = 'inner')"
   ]
  },
  {
   "cell_type": "code",
   "execution_count": 69,
   "metadata": {},
   "outputs": [
    {
     "data": {
      "text/plain": [
       "(826, 22)"
      ]
     },
     "execution_count": 69,
     "metadata": {},
     "output_type": "execute_result"
    }
   ],
   "source": [
    "unit_facility.shape"
   ]
  },
  {
   "cell_type": "code",
   "execution_count": 68,
   "metadata": {},
   "outputs": [
    {
     "data": {
      "text/plain": [
       "(811, 18)"
      ]
     },
     "execution_count": 68,
     "metadata": {},
     "output_type": "execute_result"
    }
   ],
   "source": [
    "df_facility.shape"
   ]
  },
  {
   "cell_type": "code",
   "execution_count": 70,
   "metadata": {},
   "outputs": [
    {
     "data": {
      "text/plain": [
       "(1092, 5)"
      ]
     },
     "execution_count": 70,
     "metadata": {},
     "output_type": "execute_result"
    }
   ],
   "source": [
    "df_location.shape"
   ]
  },
  {
   "cell_type": "code",
   "execution_count": 65,
   "metadata": {
    "collapsed": true
   },
   "outputs": [],
   "source": [
    "units=pd.merge(df_unit, unit_facility, on = 'LicenseNumber', how = 'inner')"
   ]
  },
  {
   "cell_type": "code",
   "execution_count": 71,
   "metadata": {},
   "outputs": [
    {
     "data": {
      "text/plain": [
       "(122926, 34)"
      ]
     },
     "execution_count": 71,
     "metadata": {},
     "output_type": "execute_result"
    }
   ],
   "source": [
    "units.shape"
   ]
  },
  {
   "cell_type": "code",
   "execution_count": 72,
   "metadata": {},
   "outputs": [
    {
     "data": {
      "text/plain": [
       "(127413, 13)"
      ]
     },
     "execution_count": 72,
     "metadata": {},
     "output_type": "execute_result"
    }
   ],
   "source": [
    "df_unit.shape"
   ]
  },
  {
   "cell_type": "code",
   "execution_count": 73,
   "metadata": {
    "collapsed": true
   },
   "outputs": [
    {
     "data": {
      "text/html": [
       "<div>\n",
       "<style>\n",
       "    .dataframe thead tr:only-child th {\n",
       "        text-align: right;\n",
       "    }\n",
       "\n",
       "    .dataframe thead th {\n",
       "        text-align: left;\n",
       "    }\n",
       "\n",
       "    .dataframe tbody tr th {\n",
       "        vertical-align: top;\n",
       "    }\n",
       "</style>\n",
       "<table border=\"1\" class=\"dataframe\">\n",
       "  <thead>\n",
       "    <tr style=\"text-align: right;\">\n",
       "      <th></th>\n",
       "      <th>Survey Year</th>\n",
       "      <th>RentRateSurveyID</th>\n",
       "      <th>LicenseNumber</th>\n",
       "      <th>UnitDataId</th>\n",
       "      <th>UnitNumber</th>\n",
       "      <th>Bedrooms</th>\n",
       "      <th>CurrentRent</th>\n",
       "      <th>RentRange</th>\n",
       "      <th>Vacant</th>\n",
       "      <th>TurnOver</th>\n",
       "      <th>...</th>\n",
       "      <th>EfficiencyRentIncrease</th>\n",
       "      <th>1BedRentIncrease</th>\n",
       "      <th>2BedRentIncrease</th>\n",
       "      <th>3BedRentIncrease</th>\n",
       "      <th>4BedRentIncrease</th>\n",
       "      <th>Address</th>\n",
       "      <th>Matched Address</th>\n",
       "      <th>X Coordinate</th>\n",
       "      <th>Y Coordinate</th>\n",
       "      <th>Source</th>\n",
       "    </tr>\n",
       "  </thead>\n",
       "  <tbody>\n",
       "    <tr>\n",
       "      <th>0</th>\n",
       "      <td>2017-01-01</td>\n",
       "      <td>NaN</td>\n",
       "      <td>17314</td>\n",
       "      <td>NaN</td>\n",
       "      <td>1</td>\n",
       "      <td>3</td>\n",
       "      <td>1600</td>\n",
       "      <td>NaN</td>\n",
       "      <td>N</td>\n",
       "      <td>NaN</td>\n",
       "      <td>...</td>\n",
       "      <td>NaN</td>\n",
       "      <td>NaN</td>\n",
       "      <td>NaN</td>\n",
       "      <td>NaN</td>\n",
       "      <td>NaN</td>\n",
       "      <td>8003 Greenwood Ave, Takoma Park, MD 20912</td>\n",
       "      <td>8003 GREENWOOD AVE, TAKOMA PARK, MD, 20912</td>\n",
       "      <td>-77.000177</td>\n",
       "      <td>38.989749</td>\n",
       "      <td>L%R</td>\n",
       "    </tr>\n",
       "    <tr>\n",
       "      <th>1</th>\n",
       "      <td>2017-01-01</td>\n",
       "      <td>NaN</td>\n",
       "      <td>17314</td>\n",
       "      <td>NaN</td>\n",
       "      <td>2</td>\n",
       "      <td>2</td>\n",
       "      <td>0</td>\n",
       "      <td>NaN</td>\n",
       "      <td>N</td>\n",
       "      <td>NaN</td>\n",
       "      <td>...</td>\n",
       "      <td>NaN</td>\n",
       "      <td>NaN</td>\n",
       "      <td>NaN</td>\n",
       "      <td>NaN</td>\n",
       "      <td>NaN</td>\n",
       "      <td>8003 Greenwood Ave, Takoma Park, MD 20912</td>\n",
       "      <td>8003 GREENWOOD AVE, TAKOMA PARK, MD, 20912</td>\n",
       "      <td>-77.000177</td>\n",
       "      <td>38.989749</td>\n",
       "      <td>L%R</td>\n",
       "    </tr>\n",
       "    <tr>\n",
       "      <th>2</th>\n",
       "      <td>2017-01-01</td>\n",
       "      <td>NaN</td>\n",
       "      <td>17314</td>\n",
       "      <td>NaN</td>\n",
       "      <td>3</td>\n",
       "      <td>2</td>\n",
       "      <td>1500</td>\n",
       "      <td>NaN</td>\n",
       "      <td>N</td>\n",
       "      <td>NaN</td>\n",
       "      <td>...</td>\n",
       "      <td>NaN</td>\n",
       "      <td>NaN</td>\n",
       "      <td>NaN</td>\n",
       "      <td>NaN</td>\n",
       "      <td>NaN</td>\n",
       "      <td>8003 Greenwood Ave, Takoma Park, MD 20912</td>\n",
       "      <td>8003 GREENWOOD AVE, TAKOMA PARK, MD, 20912</td>\n",
       "      <td>-77.000177</td>\n",
       "      <td>38.989749</td>\n",
       "      <td>L%R</td>\n",
       "    </tr>\n",
       "    <tr>\n",
       "      <th>3</th>\n",
       "      <td>2017-01-01</td>\n",
       "      <td>NaN</td>\n",
       "      <td>17341</td>\n",
       "      <td>NaN</td>\n",
       "      <td>1</td>\n",
       "      <td>2</td>\n",
       "      <td>1725</td>\n",
       "      <td>NaN</td>\n",
       "      <td>N</td>\n",
       "      <td>NaN</td>\n",
       "      <td>...</td>\n",
       "      <td>NaN</td>\n",
       "      <td>NaN</td>\n",
       "      <td>NaN</td>\n",
       "      <td>NaN</td>\n",
       "      <td>NaN</td>\n",
       "      <td>8208 Greenwood Ave, Takoma Park, MD 20912</td>\n",
       "      <td>8208 GREENWOOD AVE, TAKOMA PARK, MD, 20912</td>\n",
       "      <td>-77.001016</td>\n",
       "      <td>38.991913</td>\n",
       "      <td>L%R</td>\n",
       "    </tr>\n",
       "    <tr>\n",
       "      <th>4</th>\n",
       "      <td>2017-01-01</td>\n",
       "      <td>NaN</td>\n",
       "      <td>17341</td>\n",
       "      <td>NaN</td>\n",
       "      <td>2</td>\n",
       "      <td>2</td>\n",
       "      <td>1250</td>\n",
       "      <td>NaN</td>\n",
       "      <td>N</td>\n",
       "      <td>NaN</td>\n",
       "      <td>...</td>\n",
       "      <td>NaN</td>\n",
       "      <td>NaN</td>\n",
       "      <td>NaN</td>\n",
       "      <td>NaN</td>\n",
       "      <td>NaN</td>\n",
       "      <td>8208 Greenwood Ave, Takoma Park, MD 20912</td>\n",
       "      <td>8208 GREENWOOD AVE, TAKOMA PARK, MD, 20912</td>\n",
       "      <td>-77.001016</td>\n",
       "      <td>38.991913</td>\n",
       "      <td>L%R</td>\n",
       "    </tr>\n",
       "  </tbody>\n",
       "</table>\n",
       "<p>5 rows × 34 columns</p>\n",
       "</div>"
      ],
      "text/plain": [
       "  Survey Year  RentRateSurveyID LicenseNumber  UnitDataId UnitNumber Bedrooms  \\\n",
       "0  2017-01-01               NaN         17314         NaN          1        3   \n",
       "1  2017-01-01               NaN         17314         NaN          2        2   \n",
       "2  2017-01-01               NaN         17314         NaN          3        2   \n",
       "3  2017-01-01               NaN         17341         NaN          1        2   \n",
       "4  2017-01-01               NaN         17341         NaN          2        2   \n",
       "\n",
       "   CurrentRent  RentRange Vacant  TurnOver   ...   EfficiencyRentIncrease  \\\n",
       "0         1600        NaN      N       NaN   ...                      NaN   \n",
       "1            0        NaN      N       NaN   ...                      NaN   \n",
       "2         1500        NaN      N       NaN   ...                      NaN   \n",
       "3         1725        NaN      N       NaN   ...                      NaN   \n",
       "4         1250        NaN      N       NaN   ...                      NaN   \n",
       "\n",
       "  1BedRentIncrease 2BedRentIncrease  3BedRentIncrease 4BedRentIncrease  \\\n",
       "0              NaN              NaN               NaN              NaN   \n",
       "1              NaN              NaN               NaN              NaN   \n",
       "2              NaN              NaN               NaN              NaN   \n",
       "3              NaN              NaN               NaN              NaN   \n",
       "4              NaN              NaN               NaN              NaN   \n",
       "\n",
       "                                     Address  \\\n",
       "0  8003 Greenwood Ave, Takoma Park, MD 20912   \n",
       "1  8003 Greenwood Ave, Takoma Park, MD 20912   \n",
       "2  8003 Greenwood Ave, Takoma Park, MD 20912   \n",
       "3  8208 Greenwood Ave, Takoma Park, MD 20912   \n",
       "4  8208 Greenwood Ave, Takoma Park, MD 20912   \n",
       "\n",
       "                              Matched Address X Coordinate  Y Coordinate  \\\n",
       "0  8003 GREENWOOD AVE, TAKOMA PARK, MD, 20912   -77.000177     38.989749   \n",
       "1  8003 GREENWOOD AVE, TAKOMA PARK, MD, 20912   -77.000177     38.989749   \n",
       "2  8003 GREENWOOD AVE, TAKOMA PARK, MD, 20912   -77.000177     38.989749   \n",
       "3  8208 GREENWOOD AVE, TAKOMA PARK, MD, 20912   -77.001016     38.991913   \n",
       "4  8208 GREENWOOD AVE, TAKOMA PARK, MD, 20912   -77.001016     38.991913   \n",
       "\n",
       "  Source   \n",
       "0     L%R  \n",
       "1     L%R  \n",
       "2     L%R  \n",
       "3     L%R  \n",
       "4     L%R  \n",
       "\n",
       "[5 rows x 34 columns]"
      ]
     },
     "execution_count": 73,
     "metadata": {},
     "output_type": "execute_result"
    }
   ],
   "source": [
    "units.head()"
   ]
  },
  {
   "cell_type": "markdown",
   "metadata": {},
   "source": [
    "## Writhe to CSV"
   ]
  },
  {
   "cell_type": "code",
   "execution_count": 237,
   "metadata": {},
   "outputs": [],
   "source": [
    "units.to_csv('Units_location.csv')"
   ]
  },
  {
   "cell_type": "markdown",
   "metadata": {},
   "source": [
    "## After data geo processing in ArcGIS,import the data"
   ]
  },
  {
   "cell_type": "code",
   "execution_count": 299,
   "metadata": {},
   "outputs": [
    {
     "name": "stderr",
     "output_type": "stream",
     "text": [
      "C:\\Users\\pengq\\Anaconda3\\lib\\site-packages\\IPython\\core\\interactiveshell.py:2698: DtypeWarning: Columns (0,1,5,27,29) have mixed types. Specify dtype option on import or set low_memory=False.\n",
      "  interactivity=interactivity, compiler=compiler, result=result)\n"
     ]
    }
   ],
   "source": [
    "units=pd.read_csv('units_new_3.csv',encoding='latin-1') \n"
   ]
  },
  {
   "cell_type": "code",
   "execution_count": 239,
   "metadata": {
    "scrolled": true
   },
   "outputs": [
    {
     "data": {
      "text/html": [
       "<div>\n",
       "<style>\n",
       "    .dataframe thead tr:only-child th {\n",
       "        text-align: right;\n",
       "    }\n",
       "\n",
       "    .dataframe thead th {\n",
       "        text-align: left;\n",
       "    }\n",
       "\n",
       "    .dataframe tbody tr th {\n",
       "        vertical-align: top;\n",
       "    }\n",
       "</style>\n",
       "<table border=\"1\" class=\"dataframe\">\n",
       "  <thead>\n",
       "    <tr style=\"text-align: right;\">\n",
       "      <th></th>\n",
       "      <th>FID_Units</th>\n",
       "      <th>Field1</th>\n",
       "      <th>LicenseNum</th>\n",
       "      <th>UnitNumber</th>\n",
       "      <th>Bedrooms</th>\n",
       "      <th>CurrentRen</th>\n",
       "      <th>RentRange</th>\n",
       "      <th>Vacant</th>\n",
       "      <th>TurnOver</th>\n",
       "      <th>OccupiedDa</th>\n",
       "      <th>...</th>\n",
       "      <th>LaundryInc</th>\n",
       "      <th>UtilitiesI</th>\n",
       "      <th>X_Coordina</th>\n",
       "      <th>Y_Coordina</th>\n",
       "      <th>old_metro_</th>\n",
       "      <th>new_metro_</th>\n",
       "      <th>hos_dis</th>\n",
       "      <th>shop_dis</th>\n",
       "      <th>bus_dis</th>\n",
       "      <th>Police_DIST</th>\n",
       "    </tr>\n",
       "  </thead>\n",
       "  <tbody>\n",
       "    <tr>\n",
       "      <th>0</th>\n",
       "      <td>12657</td>\n",
       "      <td>12657</td>\n",
       "      <td>17517</td>\n",
       "      <td>6366</td>\n",
       "      <td>Two</td>\n",
       "      <td>1950</td>\n",
       "      <td>NaN</td>\n",
       "      <td>N</td>\n",
       "      <td>NaN</td>\n",
       "      <td>1/1/2013</td>\n",
       "      <td>...</td>\n",
       "      <td>Y</td>\n",
       "      <td>N</td>\n",
       "      <td>-77.121828</td>\n",
       "      <td>38.942254</td>\n",
       "      <td>4783.805140</td>\n",
       "      <td>4783.805140</td>\n",
       "      <td>1558.55</td>\n",
       "      <td>1140.748014</td>\n",
       "      <td>1558.55</td>\n",
       "      <td>2</td>\n",
       "    </tr>\n",
       "    <tr>\n",
       "      <th>1</th>\n",
       "      <td>12658</td>\n",
       "      <td>12658</td>\n",
       "      <td>17517</td>\n",
       "      <td>6368</td>\n",
       "      <td>Two</td>\n",
       "      <td>1975</td>\n",
       "      <td>NaN</td>\n",
       "      <td>N</td>\n",
       "      <td>NaN</td>\n",
       "      <td>1/1/1999</td>\n",
       "      <td>...</td>\n",
       "      <td>Y</td>\n",
       "      <td>N</td>\n",
       "      <td>-77.121828</td>\n",
       "      <td>38.942254</td>\n",
       "      <td>4783.805140</td>\n",
       "      <td>4783.805140</td>\n",
       "      <td>1558.55</td>\n",
       "      <td>1140.748014</td>\n",
       "      <td>1558.55</td>\n",
       "      <td>2</td>\n",
       "    </tr>\n",
       "    <tr>\n",
       "      <th>2</th>\n",
       "      <td>12659</td>\n",
       "      <td>12659</td>\n",
       "      <td>17517</td>\n",
       "      <td>6370</td>\n",
       "      <td>Two</td>\n",
       "      <td>2025</td>\n",
       "      <td>NaN</td>\n",
       "      <td>N</td>\n",
       "      <td>NaN</td>\n",
       "      <td>1/1/2003</td>\n",
       "      <td>...</td>\n",
       "      <td>Y</td>\n",
       "      <td>N</td>\n",
       "      <td>-77.121828</td>\n",
       "      <td>38.942254</td>\n",
       "      <td>4783.805140</td>\n",
       "      <td>4783.805140</td>\n",
       "      <td>1558.55</td>\n",
       "      <td>1140.748014</td>\n",
       "      <td>1558.55</td>\n",
       "      <td>2</td>\n",
       "    </tr>\n",
       "    <tr>\n",
       "      <th>3</th>\n",
       "      <td>116999</td>\n",
       "      <td>116999</td>\n",
       "      <td>18225</td>\n",
       "      <td>6301-01</td>\n",
       "      <td>One</td>\n",
       "      <td>1191</td>\n",
       "      <td>NaN</td>\n",
       "      <td>Y</td>\n",
       "      <td>NaN</td>\n",
       "      <td>NaN</td>\n",
       "      <td>...</td>\n",
       "      <td>Y</td>\n",
       "      <td>Y</td>\n",
       "      <td>-77.118381</td>\n",
       "      <td>38.945242</td>\n",
       "      <td>4238.007154</td>\n",
       "      <td>4238.007154</td>\n",
       "      <td>1418.95</td>\n",
       "      <td>690.244207</td>\n",
       "      <td>1418.95</td>\n",
       "      <td>2</td>\n",
       "    </tr>\n",
       "    <tr>\n",
       "      <th>4</th>\n",
       "      <td>117000</td>\n",
       "      <td>117000</td>\n",
       "      <td>18225</td>\n",
       "      <td>6301-02</td>\n",
       "      <td>Two</td>\n",
       "      <td>1412</td>\n",
       "      <td>NaN</td>\n",
       "      <td>Y</td>\n",
       "      <td>NaN</td>\n",
       "      <td>NaN</td>\n",
       "      <td>...</td>\n",
       "      <td>Y</td>\n",
       "      <td>Y</td>\n",
       "      <td>-77.118381</td>\n",
       "      <td>38.945242</td>\n",
       "      <td>4238.007154</td>\n",
       "      <td>4238.007154</td>\n",
       "      <td>1418.95</td>\n",
       "      <td>690.244207</td>\n",
       "      <td>1418.95</td>\n",
       "      <td>2</td>\n",
       "    </tr>\n",
       "  </tbody>\n",
       "</table>\n",
       "<p>5 rows × 31 columns</p>\n",
       "</div>"
      ],
      "text/plain": [
       "  FID_Units  Field1  LicenseNum UnitNumber Bedrooms CurrentRen  RentRange  \\\n",
       "0     12657   12657       17517       6366      Two       1950        NaN   \n",
       "1     12658   12658       17517       6368      Two       1975        NaN   \n",
       "2     12659   12659       17517       6370      Two       2025        NaN   \n",
       "3    116999  116999       18225    6301-01      One       1191        NaN   \n",
       "4    117000  117000       18225    6301-02      Two       1412        NaN   \n",
       "\n",
       "  Vacant  TurnOver OccupiedDa     ...     LaundryInc UtilitiesI  X_Coordina  \\\n",
       "0      N       NaN   1/1/2013     ...              Y          N  -77.121828   \n",
       "1      N       NaN   1/1/1999     ...              Y          N  -77.121828   \n",
       "2      N       NaN   1/1/2003     ...              Y          N  -77.121828   \n",
       "3      Y       NaN        NaN     ...              Y          Y  -77.118381   \n",
       "4      Y       NaN        NaN     ...              Y          Y  -77.118381   \n",
       "\n",
       "  Y_Coordina   old_metro_   new_metro_  hos_dis     shop_dis  bus_dis  \\\n",
       "0  38.942254  4783.805140  4783.805140  1558.55  1140.748014  1558.55   \n",
       "1  38.942254  4783.805140  4783.805140  1558.55  1140.748014  1558.55   \n",
       "2  38.942254  4783.805140  4783.805140  1558.55  1140.748014  1558.55   \n",
       "3  38.945242  4238.007154  4238.007154  1418.95   690.244207  1418.95   \n",
       "4  38.945242  4238.007154  4238.007154  1418.95   690.244207  1418.95   \n",
       "\n",
       "  Police_DIST  \n",
       "0           2  \n",
       "1           2  \n",
       "2           2  \n",
       "3           2  \n",
       "4           2  \n",
       "\n",
       "[5 rows x 31 columns]"
      ]
     },
     "execution_count": 239,
     "metadata": {},
     "output_type": "execute_result"
    }
   ],
   "source": [
    "units.head()"
   ]
  },
  {
   "cell_type": "code",
   "execution_count": 300,
   "metadata": {},
   "outputs": [
    {
     "data": {
      "text/plain": [
       "FID_Units       object\n",
       "Field1          object\n",
       "LicenseNum       int64\n",
       "UnitNumber      object\n",
       "Bedrooms        object\n",
       "CurrentRen      object\n",
       "RentRange      float64\n",
       "Vacant          object\n",
       "TurnOver       float64\n",
       "OccupiedDa      object\n",
       "Real_Turno      object\n",
       "DeletedInd      object\n",
       "FacilityId       int64\n",
       "FacilityNa      object\n",
       "Zip              int64\n",
       "City            object\n",
       "StructureT      object\n",
       "Age              int64\n",
       "AgeGroup        object\n",
       "Program         object\n",
       "Amenities       object\n",
       "LaundryInc      object\n",
       "UtilitiesI      object\n",
       "X_Coordina     float64\n",
       "Y_Coordina     float64\n",
       "old_metro_     float64\n",
       "new_metro_     float64\n",
       "hos_dis         object\n",
       "shop_dis       float64\n",
       "bus_dis         object\n",
       "Police_DIST     object\n",
       "dtype: object"
      ]
     },
     "execution_count": 300,
     "metadata": {},
     "output_type": "execute_result"
    }
   ],
   "source": [
    "units.dtypes"
   ]
  },
  {
   "cell_type": "code",
   "execution_count": 301,
   "metadata": {},
   "outputs": [],
   "source": [
    "units=units.drop(['FID_Units','Field1','RentRange','DeletedInd','FacilityNa', 'Zip','City','TurnOver','OccupiedDa','Real_Turno','AgeGroup'], axis=1)"
   ]
  },
  {
   "cell_type": "code",
   "execution_count": 302,
   "metadata": {},
   "outputs": [
    {
     "data": {
      "text/plain": [
       "Index(['LicenseNum', 'UnitNumber', 'Bedrooms', 'CurrentRen', 'Vacant',\n",
       "       'FacilityId', 'StructureT', 'Age', 'Program', 'Amenities', 'LaundryInc',\n",
       "       'UtilitiesI', 'X_Coordina', 'Y_Coordina', 'old_metro_', 'new_metro_',\n",
       "       'hos_dis', 'shop_dis', 'bus_dis', 'Police_DIST'],\n",
       "      dtype='object')"
      ]
     },
     "execution_count": 302,
     "metadata": {},
     "output_type": "execute_result"
    }
   ],
   "source": [
    "units.columns"
   ]
  },
  {
   "cell_type": "code",
   "execution_count": 286,
   "metadata": {},
   "outputs": [
    {
     "data": {
      "text/html": [
       "<div>\n",
       "<style>\n",
       "    .dataframe thead tr:only-child th {\n",
       "        text-align: right;\n",
       "    }\n",
       "\n",
       "    .dataframe thead th {\n",
       "        text-align: left;\n",
       "    }\n",
       "\n",
       "    .dataframe tbody tr th {\n",
       "        vertical-align: top;\n",
       "    }\n",
       "</style>\n",
       "<table border=\"1\" class=\"dataframe\">\n",
       "  <thead>\n",
       "    <tr style=\"text-align: right;\">\n",
       "      <th></th>\n",
       "      <th>LicenseNum</th>\n",
       "      <th>UnitNumber</th>\n",
       "      <th>Bedrooms</th>\n",
       "      <th>CurrentRen</th>\n",
       "      <th>Vacant</th>\n",
       "      <th>FacilityId</th>\n",
       "      <th>StructureT</th>\n",
       "      <th>Age</th>\n",
       "      <th>Program</th>\n",
       "      <th>Amenities</th>\n",
       "      <th>LaundryInc</th>\n",
       "      <th>UtilitiesI</th>\n",
       "      <th>X_Coordina</th>\n",
       "      <th>Y_Coordina</th>\n",
       "      <th>old_metro_</th>\n",
       "      <th>new_metro_</th>\n",
       "      <th>hos_dis</th>\n",
       "      <th>shop_dis</th>\n",
       "      <th>bus_dis</th>\n",
       "      <th>Police_DIST</th>\n",
       "    </tr>\n",
       "  </thead>\n",
       "  <tbody>\n",
       "    <tr>\n",
       "      <th>0</th>\n",
       "      <td>17517</td>\n",
       "      <td>6366</td>\n",
       "      <td>Two</td>\n",
       "      <td>1950</td>\n",
       "      <td>N</td>\n",
       "      <td>459</td>\n",
       "      <td>G</td>\n",
       "      <td>83</td>\n",
       "      <td>NaN</td>\n",
       "      <td>N</td>\n",
       "      <td>Y</td>\n",
       "      <td>N</td>\n",
       "      <td>-77.121828</td>\n",
       "      <td>38.942254</td>\n",
       "      <td>4783.805140</td>\n",
       "      <td>4783.805140</td>\n",
       "      <td>1558.55</td>\n",
       "      <td>1140.748014</td>\n",
       "      <td>1558.55</td>\n",
       "      <td>2</td>\n",
       "    </tr>\n",
       "    <tr>\n",
       "      <th>1</th>\n",
       "      <td>17517</td>\n",
       "      <td>6368</td>\n",
       "      <td>Two</td>\n",
       "      <td>1975</td>\n",
       "      <td>N</td>\n",
       "      <td>459</td>\n",
       "      <td>G</td>\n",
       "      <td>83</td>\n",
       "      <td>NaN</td>\n",
       "      <td>N</td>\n",
       "      <td>Y</td>\n",
       "      <td>N</td>\n",
       "      <td>-77.121828</td>\n",
       "      <td>38.942254</td>\n",
       "      <td>4783.805140</td>\n",
       "      <td>4783.805140</td>\n",
       "      <td>1558.55</td>\n",
       "      <td>1140.748014</td>\n",
       "      <td>1558.55</td>\n",
       "      <td>2</td>\n",
       "    </tr>\n",
       "    <tr>\n",
       "      <th>2</th>\n",
       "      <td>17517</td>\n",
       "      <td>6370</td>\n",
       "      <td>Two</td>\n",
       "      <td>2025</td>\n",
       "      <td>N</td>\n",
       "      <td>459</td>\n",
       "      <td>G</td>\n",
       "      <td>83</td>\n",
       "      <td>NaN</td>\n",
       "      <td>N</td>\n",
       "      <td>Y</td>\n",
       "      <td>N</td>\n",
       "      <td>-77.121828</td>\n",
       "      <td>38.942254</td>\n",
       "      <td>4783.805140</td>\n",
       "      <td>4783.805140</td>\n",
       "      <td>1558.55</td>\n",
       "      <td>1140.748014</td>\n",
       "      <td>1558.55</td>\n",
       "      <td>2</td>\n",
       "    </tr>\n",
       "    <tr>\n",
       "      <th>3</th>\n",
       "      <td>18225</td>\n",
       "      <td>6301-01</td>\n",
       "      <td>One</td>\n",
       "      <td>1191</td>\n",
       "      <td>Y</td>\n",
       "      <td>460</td>\n",
       "      <td>G</td>\n",
       "      <td>60</td>\n",
       "      <td>HIF</td>\n",
       "      <td>Y</td>\n",
       "      <td>Y</td>\n",
       "      <td>Y</td>\n",
       "      <td>-77.118381</td>\n",
       "      <td>38.945242</td>\n",
       "      <td>4238.007154</td>\n",
       "      <td>4238.007154</td>\n",
       "      <td>1418.95</td>\n",
       "      <td>690.244207</td>\n",
       "      <td>1418.95</td>\n",
       "      <td>2</td>\n",
       "    </tr>\n",
       "    <tr>\n",
       "      <th>4</th>\n",
       "      <td>18225</td>\n",
       "      <td>6301-02</td>\n",
       "      <td>Two</td>\n",
       "      <td>1412</td>\n",
       "      <td>Y</td>\n",
       "      <td>460</td>\n",
       "      <td>G</td>\n",
       "      <td>60</td>\n",
       "      <td>HIF</td>\n",
       "      <td>Y</td>\n",
       "      <td>Y</td>\n",
       "      <td>Y</td>\n",
       "      <td>-77.118381</td>\n",
       "      <td>38.945242</td>\n",
       "      <td>4238.007154</td>\n",
       "      <td>4238.007154</td>\n",
       "      <td>1418.95</td>\n",
       "      <td>690.244207</td>\n",
       "      <td>1418.95</td>\n",
       "      <td>2</td>\n",
       "    </tr>\n",
       "  </tbody>\n",
       "</table>\n",
       "</div>"
      ],
      "text/plain": [
       "   LicenseNum UnitNumber Bedrooms CurrentRen Vacant  FacilityId StructureT  \\\n",
       "0       17517       6366      Two       1950      N         459          G   \n",
       "1       17517       6368      Two       1975      N         459          G   \n",
       "2       17517       6370      Two       2025      N         459          G   \n",
       "3       18225    6301-01      One       1191      Y         460          G   \n",
       "4       18225    6301-02      Two       1412      Y         460          G   \n",
       "\n",
       "   Age Program Amenities LaundryInc UtilitiesI  X_Coordina  Y_Coordina  \\\n",
       "0   83     NaN         N          Y          N  -77.121828   38.942254   \n",
       "1   83     NaN         N          Y          N  -77.121828   38.942254   \n",
       "2   83     NaN         N          Y          N  -77.121828   38.942254   \n",
       "3   60     HIF         Y          Y          Y  -77.118381   38.945242   \n",
       "4   60     HIF         Y          Y          Y  -77.118381   38.945242   \n",
       "\n",
       "    old_metro_   new_metro_  hos_dis     shop_dis  bus_dis  Police_DIST  \n",
       "0  4783.805140  4783.805140  1558.55  1140.748014  1558.55            2  \n",
       "1  4783.805140  4783.805140  1558.55  1140.748014  1558.55            2  \n",
       "2  4783.805140  4783.805140  1558.55  1140.748014  1558.55            2  \n",
       "3  4238.007154  4238.007154  1418.95   690.244207  1418.95            2  \n",
       "4  4238.007154  4238.007154  1418.95   690.244207  1418.95            2  "
      ]
     },
     "execution_count": 286,
     "metadata": {},
     "output_type": "execute_result"
    }
   ],
   "source": [
    "units.head()"
   ]
  },
  {
   "cell_type": "code",
   "execution_count": 287,
   "metadata": {},
   "outputs": [
    {
     "data": {
      "text/plain": [
       "LicenseNum         0\n",
       "UnitNumber         7\n",
       "Bedrooms           0\n",
       "CurrentRen         0\n",
       "Vacant             0\n",
       "FacilityId         0\n",
       "StructureT         0\n",
       "Age                0\n",
       "Program        53656\n",
       "Amenities          0\n",
       "LaundryInc         0\n",
       "UtilitiesI         0\n",
       "X_Coordina         0\n",
       "Y_Coordina         0\n",
       "old_metro_         0\n",
       "new_metro_         0\n",
       "hos_dis            0\n",
       "shop_dis           0\n",
       "bus_dis            0\n",
       "Police_DIST        0\n",
       "dtype: int64"
      ]
     },
     "execution_count": 287,
     "metadata": {},
     "output_type": "execute_result"
    }
   ],
   "source": [
    "units.isnull().sum()"
   ]
  },
  {
   "cell_type": "code",
   "execution_count": 139,
   "metadata": {
    "collapsed": true
   },
   "outputs": [
    {
     "ename": "TypeError",
     "evalue": "cannot do label indexing on <class 'pandas.core.indexes.base.Index'> with these indexers [1] of <class 'int'>",
     "output_type": "error",
     "traceback": [
      "\u001b[1;31m---------------------------------------------------------------------------\u001b[0m",
      "\u001b[1;31mTypeError\u001b[0m                                 Traceback (most recent call last)",
      "\u001b[1;32m<ipython-input-139-0c9aad5f34a0>\u001b[0m in \u001b[0;36m<module>\u001b[1;34m()\u001b[0m\n\u001b[0;32m      1\u001b[0m \u001b[1;33m\u001b[0m\u001b[0m\n\u001b[1;32m----> 2\u001b[1;33m \u001b[0munits\u001b[0m\u001b[1;33m.\u001b[0m\u001b[0mloc\u001b[0m\u001b[1;33m[\u001b[0m\u001b[0munits\u001b[0m\u001b[1;33m[\u001b[0m\u001b[1;34m'Program'\u001b[0m\u001b[1;33m]\u001b[0m \u001b[1;33m!=\u001b[0m \u001b[1;34m'nan'\u001b[0m\u001b[1;33m,\u001b[0m\u001b[1;36m1\u001b[0m\u001b[1;33m]\u001b[0m\u001b[1;33m\u001b[0m\u001b[0m\n\u001b[0m",
      "\u001b[1;32m~\\Anaconda3\\lib\\site-packages\\pandas\\core\\indexing.py\u001b[0m in \u001b[0;36m__getitem__\u001b[1;34m(self, key)\u001b[0m\n\u001b[0;32m   1323\u001b[0m             \u001b[1;32mexcept\u001b[0m \u001b[1;33m(\u001b[0m\u001b[0mKeyError\u001b[0m\u001b[1;33m,\u001b[0m \u001b[0mIndexError\u001b[0m\u001b[1;33m)\u001b[0m\u001b[1;33m:\u001b[0m\u001b[1;33m\u001b[0m\u001b[0m\n\u001b[0;32m   1324\u001b[0m                 \u001b[1;32mpass\u001b[0m\u001b[1;33m\u001b[0m\u001b[0m\n\u001b[1;32m-> 1325\u001b[1;33m             \u001b[1;32mreturn\u001b[0m \u001b[0mself\u001b[0m\u001b[1;33m.\u001b[0m\u001b[0m_getitem_tuple\u001b[0m\u001b[1;33m(\u001b[0m\u001b[0mkey\u001b[0m\u001b[1;33m)\u001b[0m\u001b[1;33m\u001b[0m\u001b[0m\n\u001b[0m\u001b[0;32m   1326\u001b[0m         \u001b[1;32melse\u001b[0m\u001b[1;33m:\u001b[0m\u001b[1;33m\u001b[0m\u001b[0m\n\u001b[0;32m   1327\u001b[0m             \u001b[0mkey\u001b[0m \u001b[1;33m=\u001b[0m \u001b[0mcom\u001b[0m\u001b[1;33m.\u001b[0m\u001b[0m_apply_if_callable\u001b[0m\u001b[1;33m(\u001b[0m\u001b[0mkey\u001b[0m\u001b[1;33m,\u001b[0m \u001b[0mself\u001b[0m\u001b[1;33m.\u001b[0m\u001b[0mobj\u001b[0m\u001b[1;33m)\u001b[0m\u001b[1;33m\u001b[0m\u001b[0m\n",
      "\u001b[1;32m~\\Anaconda3\\lib\\site-packages\\pandas\\core\\indexing.py\u001b[0m in \u001b[0;36m_getitem_tuple\u001b[1;34m(self, tup)\u001b[0m\n\u001b[0;32m    834\u001b[0m     \u001b[1;32mdef\u001b[0m \u001b[0m_getitem_tuple\u001b[0m\u001b[1;33m(\u001b[0m\u001b[0mself\u001b[0m\u001b[1;33m,\u001b[0m \u001b[0mtup\u001b[0m\u001b[1;33m)\u001b[0m\u001b[1;33m:\u001b[0m\u001b[1;33m\u001b[0m\u001b[0m\n\u001b[0;32m    835\u001b[0m         \u001b[1;32mtry\u001b[0m\u001b[1;33m:\u001b[0m\u001b[1;33m\u001b[0m\u001b[0m\n\u001b[1;32m--> 836\u001b[1;33m             \u001b[1;32mreturn\u001b[0m \u001b[0mself\u001b[0m\u001b[1;33m.\u001b[0m\u001b[0m_getitem_lowerdim\u001b[0m\u001b[1;33m(\u001b[0m\u001b[0mtup\u001b[0m\u001b[1;33m)\u001b[0m\u001b[1;33m\u001b[0m\u001b[0m\n\u001b[0m\u001b[0;32m    837\u001b[0m         \u001b[1;32mexcept\u001b[0m \u001b[0mIndexingError\u001b[0m\u001b[1;33m:\u001b[0m\u001b[1;33m\u001b[0m\u001b[0m\n\u001b[0;32m    838\u001b[0m             \u001b[1;32mpass\u001b[0m\u001b[1;33m\u001b[0m\u001b[0m\n",
      "\u001b[1;32m~\\Anaconda3\\lib\\site-packages\\pandas\\core\\indexing.py\u001b[0m in \u001b[0;36m_getitem_lowerdim\u001b[1;34m(self, tup)\u001b[0m\n\u001b[0;32m    965\u001b[0m         \u001b[1;32mfor\u001b[0m \u001b[0mi\u001b[0m\u001b[1;33m,\u001b[0m \u001b[0mkey\u001b[0m \u001b[1;32min\u001b[0m \u001b[0menumerate\u001b[0m\u001b[1;33m(\u001b[0m\u001b[0mtup\u001b[0m\u001b[1;33m)\u001b[0m\u001b[1;33m:\u001b[0m\u001b[1;33m\u001b[0m\u001b[0m\n\u001b[0;32m    966\u001b[0m             \u001b[1;32mif\u001b[0m \u001b[0mis_label_like\u001b[0m\u001b[1;33m(\u001b[0m\u001b[0mkey\u001b[0m\u001b[1;33m)\u001b[0m \u001b[1;32mor\u001b[0m \u001b[0misinstance\u001b[0m\u001b[1;33m(\u001b[0m\u001b[0mkey\u001b[0m\u001b[1;33m,\u001b[0m \u001b[0mtuple\u001b[0m\u001b[1;33m)\u001b[0m\u001b[1;33m:\u001b[0m\u001b[1;33m\u001b[0m\u001b[0m\n\u001b[1;32m--> 967\u001b[1;33m                 \u001b[0msection\u001b[0m \u001b[1;33m=\u001b[0m \u001b[0mself\u001b[0m\u001b[1;33m.\u001b[0m\u001b[0m_getitem_axis\u001b[0m\u001b[1;33m(\u001b[0m\u001b[0mkey\u001b[0m\u001b[1;33m,\u001b[0m \u001b[0maxis\u001b[0m\u001b[1;33m=\u001b[0m\u001b[0mi\u001b[0m\u001b[1;33m)\u001b[0m\u001b[1;33m\u001b[0m\u001b[0m\n\u001b[0m\u001b[0;32m    968\u001b[0m \u001b[1;33m\u001b[0m\u001b[0m\n\u001b[0;32m    969\u001b[0m                 \u001b[1;31m# we have yielded a scalar ?\u001b[0m\u001b[1;33m\u001b[0m\u001b[1;33m\u001b[0m\u001b[0m\n",
      "\u001b[1;32m~\\Anaconda3\\lib\\site-packages\\pandas\\core\\indexing.py\u001b[0m in \u001b[0;36m_getitem_axis\u001b[1;34m(self, key, axis)\u001b[0m\n\u001b[0;32m   1549\u001b[0m \u001b[1;33m\u001b[0m\u001b[0m\n\u001b[0;32m   1550\u001b[0m         \u001b[1;31m# fall thru to straight lookup\u001b[0m\u001b[1;33m\u001b[0m\u001b[1;33m\u001b[0m\u001b[0m\n\u001b[1;32m-> 1551\u001b[1;33m         \u001b[0mself\u001b[0m\u001b[1;33m.\u001b[0m\u001b[0m_has_valid_type\u001b[0m\u001b[1;33m(\u001b[0m\u001b[0mkey\u001b[0m\u001b[1;33m,\u001b[0m \u001b[0maxis\u001b[0m\u001b[1;33m)\u001b[0m\u001b[1;33m\u001b[0m\u001b[0m\n\u001b[0m\u001b[0;32m   1552\u001b[0m         \u001b[1;32mreturn\u001b[0m \u001b[0mself\u001b[0m\u001b[1;33m.\u001b[0m\u001b[0m_get_label\u001b[0m\u001b[1;33m(\u001b[0m\u001b[0mkey\u001b[0m\u001b[1;33m,\u001b[0m \u001b[0maxis\u001b[0m\u001b[1;33m=\u001b[0m\u001b[0maxis\u001b[0m\u001b[1;33m)\u001b[0m\u001b[1;33m\u001b[0m\u001b[0m\n\u001b[0;32m   1553\u001b[0m \u001b[1;33m\u001b[0m\u001b[0m\n",
      "\u001b[1;32m~\\Anaconda3\\lib\\site-packages\\pandas\\core\\indexing.py\u001b[0m in \u001b[0;36m_has_valid_type\u001b[1;34m(self, key, axis)\u001b[0m\n\u001b[0;32m   1430\u001b[0m \u001b[1;33m\u001b[0m\u001b[0m\n\u001b[0;32m   1431\u001b[0m             \u001b[1;32mtry\u001b[0m\u001b[1;33m:\u001b[0m\u001b[1;33m\u001b[0m\u001b[0m\n\u001b[1;32m-> 1432\u001b[1;33m                 \u001b[0mkey\u001b[0m \u001b[1;33m=\u001b[0m \u001b[0mself\u001b[0m\u001b[1;33m.\u001b[0m\u001b[0m_convert_scalar_indexer\u001b[0m\u001b[1;33m(\u001b[0m\u001b[0mkey\u001b[0m\u001b[1;33m,\u001b[0m \u001b[0maxis\u001b[0m\u001b[1;33m)\u001b[0m\u001b[1;33m\u001b[0m\u001b[0m\n\u001b[0m\u001b[0;32m   1433\u001b[0m                 \u001b[1;32mif\u001b[0m \u001b[1;32mnot\u001b[0m \u001b[0max\u001b[0m\u001b[1;33m.\u001b[0m\u001b[0mcontains\u001b[0m\u001b[1;33m(\u001b[0m\u001b[0mkey\u001b[0m\u001b[1;33m)\u001b[0m\u001b[1;33m:\u001b[0m\u001b[1;33m\u001b[0m\u001b[0m\n\u001b[0;32m   1434\u001b[0m                     \u001b[0merror\u001b[0m\u001b[1;33m(\u001b[0m\u001b[1;33m)\u001b[0m\u001b[1;33m\u001b[0m\u001b[0m\n",
      "\u001b[1;32m~\\Anaconda3\\lib\\site-packages\\pandas\\core\\indexing.py\u001b[0m in \u001b[0;36m_convert_scalar_indexer\u001b[1;34m(self, key, axis)\u001b[0m\n\u001b[0;32m    234\u001b[0m         \u001b[0max\u001b[0m \u001b[1;33m=\u001b[0m \u001b[0mself\u001b[0m\u001b[1;33m.\u001b[0m\u001b[0mobj\u001b[0m\u001b[1;33m.\u001b[0m\u001b[0m_get_axis\u001b[0m\u001b[1;33m(\u001b[0m\u001b[0mmin\u001b[0m\u001b[1;33m(\u001b[0m\u001b[0maxis\u001b[0m\u001b[1;33m,\u001b[0m \u001b[0mself\u001b[0m\u001b[1;33m.\u001b[0m\u001b[0mndim\u001b[0m \u001b[1;33m-\u001b[0m \u001b[1;36m1\u001b[0m\u001b[1;33m)\u001b[0m\u001b[1;33m)\u001b[0m\u001b[1;33m\u001b[0m\u001b[0m\n\u001b[0;32m    235\u001b[0m         \u001b[1;31m# a scalar\u001b[0m\u001b[1;33m\u001b[0m\u001b[1;33m\u001b[0m\u001b[0m\n\u001b[1;32m--> 236\u001b[1;33m         \u001b[1;32mreturn\u001b[0m \u001b[0max\u001b[0m\u001b[1;33m.\u001b[0m\u001b[0m_convert_scalar_indexer\u001b[0m\u001b[1;33m(\u001b[0m\u001b[0mkey\u001b[0m\u001b[1;33m,\u001b[0m \u001b[0mkind\u001b[0m\u001b[1;33m=\u001b[0m\u001b[0mself\u001b[0m\u001b[1;33m.\u001b[0m\u001b[0mname\u001b[0m\u001b[1;33m)\u001b[0m\u001b[1;33m\u001b[0m\u001b[0m\n\u001b[0m\u001b[0;32m    237\u001b[0m \u001b[1;33m\u001b[0m\u001b[0m\n\u001b[0;32m    238\u001b[0m     \u001b[1;32mdef\u001b[0m \u001b[0m_convert_slice_indexer\u001b[0m\u001b[1;33m(\u001b[0m\u001b[0mself\u001b[0m\u001b[1;33m,\u001b[0m \u001b[0mkey\u001b[0m\u001b[1;33m,\u001b[0m \u001b[0maxis\u001b[0m\u001b[1;33m)\u001b[0m\u001b[1;33m:\u001b[0m\u001b[1;33m\u001b[0m\u001b[0m\n",
      "\u001b[1;32m~\\Anaconda3\\lib\\site-packages\\pandas\\core\\indexes\\base.py\u001b[0m in \u001b[0;36m_convert_scalar_indexer\u001b[1;34m(self, key, kind)\u001b[0m\n\u001b[0;32m   1333\u001b[0m             \u001b[1;32melif\u001b[0m \u001b[0mkind\u001b[0m \u001b[1;32min\u001b[0m \u001b[1;33m[\u001b[0m\u001b[1;34m'loc'\u001b[0m\u001b[1;33m]\u001b[0m \u001b[1;32mand\u001b[0m \u001b[0mis_integer\u001b[0m\u001b[1;33m(\u001b[0m\u001b[0mkey\u001b[0m\u001b[1;33m)\u001b[0m\u001b[1;33m:\u001b[0m\u001b[1;33m\u001b[0m\u001b[0m\n\u001b[0;32m   1334\u001b[0m                 \u001b[1;32mif\u001b[0m \u001b[1;32mnot\u001b[0m \u001b[0mself\u001b[0m\u001b[1;33m.\u001b[0m\u001b[0mholds_integer\u001b[0m\u001b[1;33m(\u001b[0m\u001b[1;33m)\u001b[0m\u001b[1;33m:\u001b[0m\u001b[1;33m\u001b[0m\u001b[0m\n\u001b[1;32m-> 1335\u001b[1;33m                     \u001b[1;32mreturn\u001b[0m \u001b[0mself\u001b[0m\u001b[1;33m.\u001b[0m\u001b[0m_invalid_indexer\u001b[0m\u001b[1;33m(\u001b[0m\u001b[1;34m'label'\u001b[0m\u001b[1;33m,\u001b[0m \u001b[0mkey\u001b[0m\u001b[1;33m)\u001b[0m\u001b[1;33m\u001b[0m\u001b[0m\n\u001b[0m\u001b[0;32m   1336\u001b[0m \u001b[1;33m\u001b[0m\u001b[0m\n\u001b[0;32m   1337\u001b[0m         \u001b[1;32mreturn\u001b[0m \u001b[0mkey\u001b[0m\u001b[1;33m\u001b[0m\u001b[0m\n",
      "\u001b[1;32m~\\Anaconda3\\lib\\site-packages\\pandas\\core\\indexes\\base.py\u001b[0m in \u001b[0;36m_invalid_indexer\u001b[1;34m(self, form, key)\u001b[0m\n\u001b[0;32m   1517\u001b[0m                         \"indexers [{key}] of {kind}\".format(\n\u001b[0;32m   1518\u001b[0m                             \u001b[0mform\u001b[0m\u001b[1;33m=\u001b[0m\u001b[0mform\u001b[0m\u001b[1;33m,\u001b[0m \u001b[0mklass\u001b[0m\u001b[1;33m=\u001b[0m\u001b[0mtype\u001b[0m\u001b[1;33m(\u001b[0m\u001b[0mself\u001b[0m\u001b[1;33m)\u001b[0m\u001b[1;33m,\u001b[0m \u001b[0mkey\u001b[0m\u001b[1;33m=\u001b[0m\u001b[0mkey\u001b[0m\u001b[1;33m,\u001b[0m\u001b[1;33m\u001b[0m\u001b[0m\n\u001b[1;32m-> 1519\u001b[1;33m                             kind=type(key)))\n\u001b[0m\u001b[0;32m   1520\u001b[0m \u001b[1;33m\u001b[0m\u001b[0m\n\u001b[0;32m   1521\u001b[0m     \u001b[1;32mdef\u001b[0m \u001b[0mget_duplicates\u001b[0m\u001b[1;33m(\u001b[0m\u001b[0mself\u001b[0m\u001b[1;33m)\u001b[0m\u001b[1;33m:\u001b[0m\u001b[1;33m\u001b[0m\u001b[0m\n",
      "\u001b[1;31mTypeError\u001b[0m: cannot do label indexing on <class 'pandas.core.indexes.base.Index'> with these indexers [1] of <class 'int'>"
     ]
    }
   ],
   "source": [
    "\n"
   ]
  },
  {
   "cell_type": "code",
   "execution_count": 303,
   "metadata": {
    "collapsed": true
   },
   "outputs": [],
   "source": [
    " units['Program'].fillna('NON', inplace=True)"
   ]
  },
  {
   "cell_type": "code",
   "execution_count": null,
   "metadata": {
    "collapsed": true
   },
   "outputs": [],
   "source": []
  },
  {
   "cell_type": "markdown",
   "metadata": {},
   "source": [
    "## Feature generating"
   ]
  },
  {
   "cell_type": "code",
   "execution_count": 304,
   "metadata": {
    "collapsed": true
   },
   "outputs": [],
   "source": [
    "# those features have few labels. We can one hot encoding these features in future feature engineering.\n",
    "# let us first do a barplot on those features\n",
    "ohe_feats = units[['Bedrooms', \n",
    "             'Vacant', \n",
    "             'StructureT', \n",
    "             'Program', \n",
    "             'Amenities', \n",
    "             'LaundryInc', \n",
    "             'UtilitiesI' ,'Police_DIST']]\n"
   ]
  },
  {
   "cell_type": "code",
   "execution_count": 305,
   "metadata": {},
   "outputs": [],
   "source": [
    "from sklearn import preprocessing\n",
    "from IPython import display\n"
   ]
  },
  {
   "cell_type": "code",
   "execution_count": 194,
   "metadata": {},
   "outputs": [
    {
     "name": "stderr",
     "output_type": "stream",
     "text": [
      "C:\\Users\\pengq\\Anaconda3\\lib\\site-packages\\pandas\\core\\ops.py:798: FutureWarning: elementwise comparison failed; returning scalar instead, but in the future will perform elementwise comparison\n",
      "  result = getattr(x, name)(y)\n"
     ]
    },
    {
     "ename": "TypeError",
     "evalue": "invalid type comparison",
     "output_type": "error",
     "traceback": [
      "\u001b[1;31m---------------------------------------------------------------------------\u001b[0m",
      "\u001b[1;31mTypeError\u001b[0m                                 Traceback (most recent call last)",
      "\u001b[1;32m<ipython-input-194-7dcc444cca32>\u001b[0m in \u001b[0;36m<module>\u001b[1;34m()\u001b[0m\n\u001b[1;32m----> 1\u001b[1;33m \u001b[0mohe_feats\u001b[0m\u001b[1;33m.\u001b[0m\u001b[0mloc\u001b[0m\u001b[1;33m[\u001b[0m\u001b[0mohe_feats\u001b[0m\u001b[1;33m[\u001b[0m\u001b[1;34m\"Bedrooms\"\u001b[0m\u001b[1;33m]\u001b[0m \u001b[1;33m==\u001b[0m\u001b[1;34m'0'\u001b[0m\u001b[1;33m]\u001b[0m\u001b[1;33m=\u001b[0m\u001b[1;34m'zero'\u001b[0m\u001b[1;33m\u001b[0m\u001b[0m\n\u001b[0m\u001b[0;32m      2\u001b[0m \u001b[0mohe_feats\u001b[0m\u001b[1;33m.\u001b[0m\u001b[0mhead\u001b[0m\u001b[1;33m(\u001b[0m\u001b[1;33m)\u001b[0m\u001b[1;33m\u001b[0m\u001b[0m\n",
      "\u001b[1;32m~\\Anaconda3\\lib\\site-packages\\pandas\\core\\ops.py\u001b[0m in \u001b[0;36mwrapper\u001b[1;34m(self, other, axis)\u001b[0m\n\u001b[0;32m    859\u001b[0m \u001b[1;33m\u001b[0m\u001b[0m\n\u001b[0;32m    860\u001b[0m             \u001b[1;32mwith\u001b[0m \u001b[0mnp\u001b[0m\u001b[1;33m.\u001b[0m\u001b[0merrstate\u001b[0m\u001b[1;33m(\u001b[0m\u001b[0mall\u001b[0m\u001b[1;33m=\u001b[0m\u001b[1;34m'ignore'\u001b[0m\u001b[1;33m)\u001b[0m\u001b[1;33m:\u001b[0m\u001b[1;33m\u001b[0m\u001b[0m\n\u001b[1;32m--> 861\u001b[1;33m                 \u001b[0mres\u001b[0m \u001b[1;33m=\u001b[0m \u001b[0mna_op\u001b[0m\u001b[1;33m(\u001b[0m\u001b[0mvalues\u001b[0m\u001b[1;33m,\u001b[0m \u001b[0mother\u001b[0m\u001b[1;33m)\u001b[0m\u001b[1;33m\u001b[0m\u001b[0m\n\u001b[0m\u001b[0;32m    862\u001b[0m             \u001b[1;32mif\u001b[0m \u001b[0mis_scalar\u001b[0m\u001b[1;33m(\u001b[0m\u001b[0mres\u001b[0m\u001b[1;33m)\u001b[0m\u001b[1;33m:\u001b[0m\u001b[1;33m\u001b[0m\u001b[0m\n\u001b[0;32m    863\u001b[0m                 raise TypeError('Could not compare %s type with Series' %\n",
      "\u001b[1;32m~\\Anaconda3\\lib\\site-packages\\pandas\\core\\ops.py\u001b[0m in \u001b[0;36mna_op\u001b[1;34m(x, y)\u001b[0m\n\u001b[0;32m    798\u001b[0m                     \u001b[0mresult\u001b[0m \u001b[1;33m=\u001b[0m \u001b[0mgetattr\u001b[0m\u001b[1;33m(\u001b[0m\u001b[0mx\u001b[0m\u001b[1;33m,\u001b[0m \u001b[0mname\u001b[0m\u001b[1;33m)\u001b[0m\u001b[1;33m(\u001b[0m\u001b[0my\u001b[0m\u001b[1;33m)\u001b[0m\u001b[1;33m\u001b[0m\u001b[0m\n\u001b[0;32m    799\u001b[0m                 \u001b[1;32mif\u001b[0m \u001b[0mresult\u001b[0m \u001b[1;32mis\u001b[0m \u001b[0mNotImplemented\u001b[0m\u001b[1;33m:\u001b[0m\u001b[1;33m\u001b[0m\u001b[0m\n\u001b[1;32m--> 800\u001b[1;33m                     \u001b[1;32mraise\u001b[0m \u001b[0mTypeError\u001b[0m\u001b[1;33m(\u001b[0m\u001b[1;34m\"invalid type comparison\"\u001b[0m\u001b[1;33m)\u001b[0m\u001b[1;33m\u001b[0m\u001b[0m\n\u001b[0m\u001b[0;32m    801\u001b[0m             \u001b[1;32mexcept\u001b[0m \u001b[0mAttributeError\u001b[0m\u001b[1;33m:\u001b[0m\u001b[1;33m\u001b[0m\u001b[0m\n\u001b[0;32m    802\u001b[0m                 \u001b[0mresult\u001b[0m \u001b[1;33m=\u001b[0m \u001b[0mop\u001b[0m\u001b[1;33m(\u001b[0m\u001b[0mx\u001b[0m\u001b[1;33m,\u001b[0m \u001b[0my\u001b[0m\u001b[1;33m)\u001b[0m\u001b[1;33m\u001b[0m\u001b[0m\n",
      "\u001b[1;31mTypeError\u001b[0m: invalid type comparison"
     ]
    }
   ],
   "source": [
    "# ohe_feats.loc[ohe_feats[\"Bedrooms\"] =='0']='zero'\n",
    "# ohe_feats.head()"
   ]
  },
  {
   "cell_type": "code",
   "execution_count": null,
   "metadata": {
    "collapsed": true
   },
   "outputs": [],
   "source": []
  },
  {
   "cell_type": "code",
   "execution_count": 306,
   "metadata": {},
   "outputs": [],
   "source": [
    "data_dummies=pd.get_dummies(ohe_feats,drop_first=True)"
   ]
  },
  {
   "cell_type": "code",
   "execution_count": 225,
   "metadata": {},
   "outputs": [
    {
     "data": {
      "text/html": [
       "<div>\n",
       "<style>\n",
       "    .dataframe thead tr:only-child th {\n",
       "        text-align: right;\n",
       "    }\n",
       "\n",
       "    .dataframe thead th {\n",
       "        text-align: left;\n",
       "    }\n",
       "\n",
       "    .dataframe tbody tr th {\n",
       "        vertical-align: top;\n",
       "    }\n",
       "</style>\n",
       "<table border=\"1\" class=\"dataframe\">\n",
       "  <thead>\n",
       "    <tr style=\"text-align: right;\">\n",
       "      <th></th>\n",
       "      <th>Bedrooms_One</th>\n",
       "      <th>Bedrooms_Other</th>\n",
       "      <th>Bedrooms_Three</th>\n",
       "      <th>Bedrooms_Two</th>\n",
       "      <th>Bedrooms_Zero</th>\n",
       "      <th>Vacant_Y</th>\n",
       "      <th>StructureT_H</th>\n",
       "      <th>StructureT_M</th>\n",
       "      <th>StructureT_T</th>\n",
       "      <th>StructureT_X</th>\n",
       "      <th>...</th>\n",
       "      <th>Program_S8 TC OTH OV HOME</th>\n",
       "      <th>Program_TC</th>\n",
       "      <th>Program_TC AR</th>\n",
       "      <th>Program_TC HIF</th>\n",
       "      <th>Program_TC HOME</th>\n",
       "      <th>Program_TC OTH OV</th>\n",
       "      <th>Program_TC OTH OV AR</th>\n",
       "      <th>Amenities_Y</th>\n",
       "      <th>LaundryInc_Y</th>\n",
       "      <th>UtilitiesI_Y</th>\n",
       "    </tr>\n",
       "  </thead>\n",
       "  <tbody>\n",
       "    <tr>\n",
       "      <th>0</th>\n",
       "      <td>0</td>\n",
       "      <td>0</td>\n",
       "      <td>0</td>\n",
       "      <td>1</td>\n",
       "      <td>0</td>\n",
       "      <td>0</td>\n",
       "      <td>0</td>\n",
       "      <td>0</td>\n",
       "      <td>0</td>\n",
       "      <td>0</td>\n",
       "      <td>...</td>\n",
       "      <td>0</td>\n",
       "      <td>0</td>\n",
       "      <td>0</td>\n",
       "      <td>0</td>\n",
       "      <td>0</td>\n",
       "      <td>0</td>\n",
       "      <td>0</td>\n",
       "      <td>0</td>\n",
       "      <td>1</td>\n",
       "      <td>0</td>\n",
       "    </tr>\n",
       "    <tr>\n",
       "      <th>1</th>\n",
       "      <td>0</td>\n",
       "      <td>0</td>\n",
       "      <td>0</td>\n",
       "      <td>1</td>\n",
       "      <td>0</td>\n",
       "      <td>0</td>\n",
       "      <td>0</td>\n",
       "      <td>0</td>\n",
       "      <td>0</td>\n",
       "      <td>0</td>\n",
       "      <td>...</td>\n",
       "      <td>0</td>\n",
       "      <td>0</td>\n",
       "      <td>0</td>\n",
       "      <td>0</td>\n",
       "      <td>0</td>\n",
       "      <td>0</td>\n",
       "      <td>0</td>\n",
       "      <td>0</td>\n",
       "      <td>1</td>\n",
       "      <td>0</td>\n",
       "    </tr>\n",
       "    <tr>\n",
       "      <th>2</th>\n",
       "      <td>0</td>\n",
       "      <td>0</td>\n",
       "      <td>0</td>\n",
       "      <td>1</td>\n",
       "      <td>0</td>\n",
       "      <td>0</td>\n",
       "      <td>0</td>\n",
       "      <td>0</td>\n",
       "      <td>0</td>\n",
       "      <td>0</td>\n",
       "      <td>...</td>\n",
       "      <td>0</td>\n",
       "      <td>0</td>\n",
       "      <td>0</td>\n",
       "      <td>0</td>\n",
       "      <td>0</td>\n",
       "      <td>0</td>\n",
       "      <td>0</td>\n",
       "      <td>0</td>\n",
       "      <td>1</td>\n",
       "      <td>0</td>\n",
       "    </tr>\n",
       "    <tr>\n",
       "      <th>3</th>\n",
       "      <td>1</td>\n",
       "      <td>0</td>\n",
       "      <td>0</td>\n",
       "      <td>0</td>\n",
       "      <td>0</td>\n",
       "      <td>1</td>\n",
       "      <td>0</td>\n",
       "      <td>0</td>\n",
       "      <td>0</td>\n",
       "      <td>0</td>\n",
       "      <td>...</td>\n",
       "      <td>0</td>\n",
       "      <td>0</td>\n",
       "      <td>0</td>\n",
       "      <td>0</td>\n",
       "      <td>0</td>\n",
       "      <td>0</td>\n",
       "      <td>0</td>\n",
       "      <td>1</td>\n",
       "      <td>1</td>\n",
       "      <td>1</td>\n",
       "    </tr>\n",
       "    <tr>\n",
       "      <th>4</th>\n",
       "      <td>0</td>\n",
       "      <td>0</td>\n",
       "      <td>0</td>\n",
       "      <td>1</td>\n",
       "      <td>0</td>\n",
       "      <td>1</td>\n",
       "      <td>0</td>\n",
       "      <td>0</td>\n",
       "      <td>0</td>\n",
       "      <td>0</td>\n",
       "      <td>...</td>\n",
       "      <td>0</td>\n",
       "      <td>0</td>\n",
       "      <td>0</td>\n",
       "      <td>0</td>\n",
       "      <td>0</td>\n",
       "      <td>0</td>\n",
       "      <td>0</td>\n",
       "      <td>1</td>\n",
       "      <td>1</td>\n",
       "      <td>1</td>\n",
       "    </tr>\n",
       "  </tbody>\n",
       "</table>\n",
       "<p>5 rows × 57 columns</p>\n",
       "</div>"
      ],
      "text/plain": [
       "   Bedrooms_One  Bedrooms_Other  Bedrooms_Three  Bedrooms_Two  Bedrooms_Zero  \\\n",
       "0             0               0               0             1              0   \n",
       "1             0               0               0             1              0   \n",
       "2             0               0               0             1              0   \n",
       "3             1               0               0             0              0   \n",
       "4             0               0               0             1              0   \n",
       "\n",
       "   Vacant_Y  StructureT_H  StructureT_M  StructureT_T  StructureT_X  \\\n",
       "0         0             0             0             0             0   \n",
       "1         0             0             0             0             0   \n",
       "2         0             0             0             0             0   \n",
       "3         1             0             0             0             0   \n",
       "4         1             0             0             0             0   \n",
       "\n",
       "       ...       Program_S8 TC OTH OV HOME  Program_TC  Program_TC AR  \\\n",
       "0      ...                               0           0              0   \n",
       "1      ...                               0           0              0   \n",
       "2      ...                               0           0              0   \n",
       "3      ...                               0           0              0   \n",
       "4      ...                               0           0              0   \n",
       "\n",
       "   Program_TC HIF  Program_TC HOME  Program_TC OTH OV  Program_TC OTH OV AR  \\\n",
       "0               0                0                  0                     0   \n",
       "1               0                0                  0                     0   \n",
       "2               0                0                  0                     0   \n",
       "3               0                0                  0                     0   \n",
       "4               0                0                  0                     0   \n",
       "\n",
       "   Amenities_Y  LaundryInc_Y  UtilitiesI_Y  \n",
       "0            0             1             0  \n",
       "1            0             1             0  \n",
       "2            0             1             0  \n",
       "3            1             1             1  \n",
       "4            1             1             1  \n",
       "\n",
       "[5 rows x 57 columns]"
      ]
     },
     "execution_count": 225,
     "metadata": {},
     "output_type": "execute_result"
    }
   ],
   "source": []
  },
  {
   "cell_type": "code",
   "execution_count": 314,
   "metadata": {},
   "outputs": [
    {
     "data": {
      "text/plain": [
       "Index(['LicenseNum', 'UnitNumber', 'CurrentRen', 'FacilityId', 'Age',\n",
       "       'UtilitiesI', 'X_Coordina', 'Y_Coordina', 'old_metro_', 'new_metro_',\n",
       "       'hos_dis', 'shop_dis', 'bus_dis', 'Police_DIST', 'Bedrooms_One',\n",
       "       'Bedrooms_Other', 'Bedrooms_Three', 'Bedrooms_Two', 'Bedrooms_Zero',\n",
       "       'Vacant_Y', 'StructureT_H', 'StructureT_M', 'StructureT_T',\n",
       "       'StructureT_X', 'Program_AR HOME', 'Program_BM', 'Program_HIF',\n",
       "       'Program_HOME', 'Program_MPDU', 'Program_MPDU OTH OV',\n",
       "       'Program_MPDU S8', 'Program_MPDU TC', 'Program_MPDU TC AR HOME',\n",
       "       'Program_MPDU TC OTH OV', 'Program_MPDU TC OTH OV AR',\n",
       "       'Program_MPDU TC WF', 'Program_MPDU WF', 'Program_NON',\n",
       "       'Program_OTH OV', 'Program_OTH OV HIF', 'Program_OTH OV HOME',\n",
       "       'Program_PH', 'Program_PH TC', 'Program_S202', 'Program_S236',\n",
       "       'Program_S236 AR', 'Program_S236 OTH OV', 'Program_S236 TC',\n",
       "       'Program_S236 TC OTH OV', 'Program_S8', 'Program_S8  S236 TC',\n",
       "       'Program_S8 AR', 'Program_S8 HIF', 'Program_S8 OTH OV',\n",
       "       'Program_S8 PH TC', 'Program_S8 S202', 'Program_S8 S202 AR',\n",
       "       'Program_S8 S202 TC', 'Program_S8 TC', 'Program_S8 TC AR',\n",
       "       'Program_S8 TC HIF', 'Program_S8 TC HOME', 'Program_S8 TC OTH OV HOME',\n",
       "       'Program_TC', 'Program_TC AR', 'Program_TC HIF', 'Program_TC HOME',\n",
       "       'Program_TC OTH OV', 'Program_TC OTH OV AR', 'Amenities_Y',\n",
       "       'LaundryInc_Y', 'UtilitiesI_Y', 'Police_DIST_Five', 'Police_DIST_Four',\n",
       "       'Police_DIST_One', 'Police_DIST_Six', 'Police_DIST_Three',\n",
       "       'Police_DIST_Two'],\n",
       "      dtype='object')"
      ]
     },
     "execution_count": 314,
     "metadata": {},
     "output_type": "execute_result"
    }
   ],
   "source": [
    "data.columns"
   ]
  },
  {
   "cell_type": "code",
   "execution_count": 315,
   "metadata": {},
   "outputs": [],
   "source": [
    "data = pd.concat([units, data_dummies], axis = 1, ignore_index = False)"
   ]
  },
  {
   "cell_type": "code",
   "execution_count": 316,
   "metadata": {},
   "outputs": [
    {
     "data": {
      "text/html": [
       "<div>\n",
       "<style>\n",
       "    .dataframe thead tr:only-child th {\n",
       "        text-align: right;\n",
       "    }\n",
       "\n",
       "    .dataframe thead th {\n",
       "        text-align: left;\n",
       "    }\n",
       "\n",
       "    .dataframe tbody tr th {\n",
       "        vertical-align: top;\n",
       "    }\n",
       "</style>\n",
       "<table border=\"1\" class=\"dataframe\">\n",
       "  <thead>\n",
       "    <tr style=\"text-align: right;\">\n",
       "      <th></th>\n",
       "      <th>LicenseNum</th>\n",
       "      <th>UnitNumber</th>\n",
       "      <th>Bedrooms</th>\n",
       "      <th>CurrentRen</th>\n",
       "      <th>Vacant</th>\n",
       "      <th>FacilityId</th>\n",
       "      <th>StructureT</th>\n",
       "      <th>Age</th>\n",
       "      <th>Program</th>\n",
       "      <th>Amenities</th>\n",
       "      <th>...</th>\n",
       "      <th>Program_TC OTH OV AR</th>\n",
       "      <th>Amenities_Y</th>\n",
       "      <th>LaundryInc_Y</th>\n",
       "      <th>UtilitiesI_Y</th>\n",
       "      <th>Police_DIST_Five</th>\n",
       "      <th>Police_DIST_Four</th>\n",
       "      <th>Police_DIST_One</th>\n",
       "      <th>Police_DIST_Six</th>\n",
       "      <th>Police_DIST_Three</th>\n",
       "      <th>Police_DIST_Two</th>\n",
       "    </tr>\n",
       "  </thead>\n",
       "  <tbody>\n",
       "    <tr>\n",
       "      <th>0</th>\n",
       "      <td>17517</td>\n",
       "      <td>6366</td>\n",
       "      <td>Two</td>\n",
       "      <td>1950</td>\n",
       "      <td>N</td>\n",
       "      <td>459</td>\n",
       "      <td>G</td>\n",
       "      <td>83</td>\n",
       "      <td>NON</td>\n",
       "      <td>N</td>\n",
       "      <td>...</td>\n",
       "      <td>0</td>\n",
       "      <td>0</td>\n",
       "      <td>1</td>\n",
       "      <td>0</td>\n",
       "      <td>0</td>\n",
       "      <td>0</td>\n",
       "      <td>0</td>\n",
       "      <td>0</td>\n",
       "      <td>0</td>\n",
       "      <td>1</td>\n",
       "    </tr>\n",
       "    <tr>\n",
       "      <th>1</th>\n",
       "      <td>17517</td>\n",
       "      <td>6368</td>\n",
       "      <td>Two</td>\n",
       "      <td>1975</td>\n",
       "      <td>N</td>\n",
       "      <td>459</td>\n",
       "      <td>G</td>\n",
       "      <td>83</td>\n",
       "      <td>NON</td>\n",
       "      <td>N</td>\n",
       "      <td>...</td>\n",
       "      <td>0</td>\n",
       "      <td>0</td>\n",
       "      <td>1</td>\n",
       "      <td>0</td>\n",
       "      <td>0</td>\n",
       "      <td>0</td>\n",
       "      <td>0</td>\n",
       "      <td>0</td>\n",
       "      <td>0</td>\n",
       "      <td>1</td>\n",
       "    </tr>\n",
       "    <tr>\n",
       "      <th>2</th>\n",
       "      <td>17517</td>\n",
       "      <td>6370</td>\n",
       "      <td>Two</td>\n",
       "      <td>2025</td>\n",
       "      <td>N</td>\n",
       "      <td>459</td>\n",
       "      <td>G</td>\n",
       "      <td>83</td>\n",
       "      <td>NON</td>\n",
       "      <td>N</td>\n",
       "      <td>...</td>\n",
       "      <td>0</td>\n",
       "      <td>0</td>\n",
       "      <td>1</td>\n",
       "      <td>0</td>\n",
       "      <td>0</td>\n",
       "      <td>0</td>\n",
       "      <td>0</td>\n",
       "      <td>0</td>\n",
       "      <td>0</td>\n",
       "      <td>1</td>\n",
       "    </tr>\n",
       "    <tr>\n",
       "      <th>3</th>\n",
       "      <td>18225</td>\n",
       "      <td>6301-01</td>\n",
       "      <td>One</td>\n",
       "      <td>1191</td>\n",
       "      <td>Y</td>\n",
       "      <td>460</td>\n",
       "      <td>G</td>\n",
       "      <td>60</td>\n",
       "      <td>HIF</td>\n",
       "      <td>Y</td>\n",
       "      <td>...</td>\n",
       "      <td>0</td>\n",
       "      <td>1</td>\n",
       "      <td>1</td>\n",
       "      <td>1</td>\n",
       "      <td>0</td>\n",
       "      <td>0</td>\n",
       "      <td>0</td>\n",
       "      <td>0</td>\n",
       "      <td>0</td>\n",
       "      <td>1</td>\n",
       "    </tr>\n",
       "    <tr>\n",
       "      <th>4</th>\n",
       "      <td>18225</td>\n",
       "      <td>6301-02</td>\n",
       "      <td>Two</td>\n",
       "      <td>1412</td>\n",
       "      <td>Y</td>\n",
       "      <td>460</td>\n",
       "      <td>G</td>\n",
       "      <td>60</td>\n",
       "      <td>HIF</td>\n",
       "      <td>Y</td>\n",
       "      <td>...</td>\n",
       "      <td>0</td>\n",
       "      <td>1</td>\n",
       "      <td>1</td>\n",
       "      <td>1</td>\n",
       "      <td>0</td>\n",
       "      <td>0</td>\n",
       "      <td>0</td>\n",
       "      <td>0</td>\n",
       "      <td>0</td>\n",
       "      <td>1</td>\n",
       "    </tr>\n",
       "  </tbody>\n",
       "</table>\n",
       "<p>5 rows × 84 columns</p>\n",
       "</div>"
      ],
      "text/plain": [
       "   LicenseNum UnitNumber Bedrooms CurrentRen Vacant  FacilityId StructureT  \\\n",
       "0       17517       6366      Two       1950      N         459          G   \n",
       "1       17517       6368      Two       1975      N         459          G   \n",
       "2       17517       6370      Two       2025      N         459          G   \n",
       "3       18225    6301-01      One       1191      Y         460          G   \n",
       "4       18225    6301-02      Two       1412      Y         460          G   \n",
       "\n",
       "   Age Program Amenities       ...       Program_TC OTH OV AR Amenities_Y  \\\n",
       "0   83     NON         N       ...                          0           0   \n",
       "1   83     NON         N       ...                          0           0   \n",
       "2   83     NON         N       ...                          0           0   \n",
       "3   60     HIF         Y       ...                          0           1   \n",
       "4   60     HIF         Y       ...                          0           1   \n",
       "\n",
       "   LaundryInc_Y  UtilitiesI_Y  Police_DIST_Five  Police_DIST_Four  \\\n",
       "0             1             0                 0                 0   \n",
       "1             1             0                 0                 0   \n",
       "2             1             0                 0                 0   \n",
       "3             1             1                 0                 0   \n",
       "4             1             1                 0                 0   \n",
       "\n",
       "  Police_DIST_One  Police_DIST_Six Police_DIST_Three Police_DIST_Two  \n",
       "0               0                0                 0               1  \n",
       "1               0                0                 0               1  \n",
       "2               0                0                 0               1  \n",
       "3               0                0                 0               1  \n",
       "4               0                0                 0               1  \n",
       "\n",
       "[5 rows x 84 columns]"
      ]
     },
     "execution_count": 316,
     "metadata": {},
     "output_type": "execute_result"
    }
   ],
   "source": [
    "data.head()"
   ]
  },
  {
   "cell_type": "code",
   "execution_count": 322,
   "metadata": {},
   "outputs": [
    {
     "data": {
      "text/plain": [
       "(122926, 77)"
      ]
     },
     "execution_count": 322,
     "metadata": {},
     "output_type": "execute_result"
    }
   ],
   "source": [
    "data.shape"
   ]
  },
  {
   "cell_type": "code",
   "execution_count": 317,
   "metadata": {
    "collapsed": true
   },
   "outputs": [],
   "source": [
    "data = data.drop('Bedrooms', 1)"
   ]
  },
  {
   "cell_type": "code",
   "execution_count": 318,
   "metadata": {
    "collapsed": true
   },
   "outputs": [],
   "source": [
    "data = data.drop(['Vacant','StructureT','Program','Amenities','LaundryInc'], 1)"
   ]
  },
  {
   "cell_type": "code",
   "execution_count": 324,
   "metadata": {},
   "outputs": [],
   "source": [
    "data = data.drop('UtilitiesI', 1)"
   ]
  },
  {
   "cell_type": "code",
   "execution_count": 321,
   "metadata": {
    "collapsed": true
   },
   "outputs": [],
   "source": [
    "data = data.drop('Police_DIST', 1)"
   ]
  },
  {
   "cell_type": "code",
   "execution_count": 325,
   "metadata": {},
   "outputs": [
    {
     "data": {
      "text/plain": [
       "Index(['LicenseNum', 'UnitNumber', 'CurrentRen', 'FacilityId', 'Age',\n",
       "       'X_Coordina', 'Y_Coordina', 'old_metro_', 'new_metro_', 'hos_dis',\n",
       "       'shop_dis', 'bus_dis', 'Bedrooms_One', 'Bedrooms_Other',\n",
       "       'Bedrooms_Three', 'Bedrooms_Two', 'Bedrooms_Zero', 'Vacant_Y',\n",
       "       'StructureT_H', 'StructureT_M', 'StructureT_T', 'StructureT_X',\n",
       "       'Program_AR HOME', 'Program_BM', 'Program_HIF', 'Program_HOME',\n",
       "       'Program_MPDU', 'Program_MPDU OTH OV', 'Program_MPDU S8',\n",
       "       'Program_MPDU TC', 'Program_MPDU TC AR HOME', 'Program_MPDU TC OTH OV',\n",
       "       'Program_MPDU TC OTH OV AR', 'Program_MPDU TC WF', 'Program_MPDU WF',\n",
       "       'Program_NON', 'Program_OTH OV', 'Program_OTH OV HIF',\n",
       "       'Program_OTH OV HOME', 'Program_PH', 'Program_PH TC', 'Program_S202',\n",
       "       'Program_S236', 'Program_S236 AR', 'Program_S236 OTH OV',\n",
       "       'Program_S236 TC', 'Program_S236 TC OTH OV', 'Program_S8',\n",
       "       'Program_S8  S236 TC', 'Program_S8 AR', 'Program_S8 HIF',\n",
       "       'Program_S8 OTH OV', 'Program_S8 PH TC', 'Program_S8 S202',\n",
       "       'Program_S8 S202 AR', 'Program_S8 S202 TC', 'Program_S8 TC',\n",
       "       'Program_S8 TC AR', 'Program_S8 TC HIF', 'Program_S8 TC HOME',\n",
       "       'Program_S8 TC OTH OV HOME', 'Program_TC', 'Program_TC AR',\n",
       "       'Program_TC HIF', 'Program_TC HOME', 'Program_TC OTH OV',\n",
       "       'Program_TC OTH OV AR', 'Amenities_Y', 'LaundryInc_Y', 'UtilitiesI_Y',\n",
       "       'Police_DIST_Five', 'Police_DIST_Four', 'Police_DIST_One',\n",
       "       'Police_DIST_Six', 'Police_DIST_Three', 'Police_DIST_Two'],\n",
       "      dtype='object')"
      ]
     },
     "execution_count": 325,
     "metadata": {},
     "output_type": "execute_result"
    }
   ],
   "source": [
    "data.columns"
   ]
  },
  {
   "cell_type": "code",
   "execution_count": 327,
   "metadata": {
    "collapsed": true
   },
   "outputs": [],
   "source": [
    "data.set_index('LicenseNum', inplace=True)"
   ]
  },
  {
   "cell_type": "code",
   "execution_count": 329,
   "metadata": {},
   "outputs": [],
   "source": [
    "data = data.drop(['UnitNumber','FacilityId','X_Coordina','Y_Coordina'], 1)"
   ]
  },
  {
   "cell_type": "code",
   "execution_count": 331,
   "metadata": {},
   "outputs": [
    {
     "data": {
      "text/plain": [
       "Index(['CurrentRen', 'Age', 'old_metro_', 'new_metro_', 'hos_dis', 'shop_dis',\n",
       "       'bus_dis', 'Bedrooms_One', 'Bedrooms_Other', 'Bedrooms_Three',\n",
       "       'Bedrooms_Two', 'Bedrooms_Zero', 'Vacant_Y', 'StructureT_H',\n",
       "       'StructureT_M', 'StructureT_T', 'StructureT_X', 'Program_AR HOME',\n",
       "       'Program_BM', 'Program_HIF', 'Program_HOME', 'Program_MPDU',\n",
       "       'Program_MPDU OTH OV', 'Program_MPDU S8', 'Program_MPDU TC',\n",
       "       'Program_MPDU TC AR HOME', 'Program_MPDU TC OTH OV',\n",
       "       'Program_MPDU TC OTH OV AR', 'Program_MPDU TC WF', 'Program_MPDU WF',\n",
       "       'Program_NON', 'Program_OTH OV', 'Program_OTH OV HIF',\n",
       "       'Program_OTH OV HOME', 'Program_PH', 'Program_PH TC', 'Program_S202',\n",
       "       'Program_S236', 'Program_S236 AR', 'Program_S236 OTH OV',\n",
       "       'Program_S236 TC', 'Program_S236 TC OTH OV', 'Program_S8',\n",
       "       'Program_S8  S236 TC', 'Program_S8 AR', 'Program_S8 HIF',\n",
       "       'Program_S8 OTH OV', 'Program_S8 PH TC', 'Program_S8 S202',\n",
       "       'Program_S8 S202 AR', 'Program_S8 S202 TC', 'Program_S8 TC',\n",
       "       'Program_S8 TC AR', 'Program_S8 TC HIF', 'Program_S8 TC HOME',\n",
       "       'Program_S8 TC OTH OV HOME', 'Program_TC', 'Program_TC AR',\n",
       "       'Program_TC HIF', 'Program_TC HOME', 'Program_TC OTH OV',\n",
       "       'Program_TC OTH OV AR', 'Amenities_Y', 'LaundryInc_Y', 'UtilitiesI_Y',\n",
       "       'Police_DIST_Five', 'Police_DIST_Four', 'Police_DIST_One',\n",
       "       'Police_DIST_Six', 'Police_DIST_Three', 'Police_DIST_Two'],\n",
       "      dtype='object')"
      ]
     },
     "execution_count": 331,
     "metadata": {},
     "output_type": "execute_result"
    }
   ],
   "source": [
    "data.columns"
   ]
  },
  {
   "cell_type": "code",
   "execution_count": 339,
   "metadata": {},
   "outputs": [
    {
     "name": "stderr",
     "output_type": "stream",
     "text": [
      "C:\\Users\\pengq\\Anaconda3\\lib\\site-packages\\ipykernel_launcher.py:1: FutureWarning: convert_objects is deprecated.  Use the data-type specific converters pd.to_datetime, pd.to_timedelta and pd.to_numeric.\n",
      "  \"\"\"Entry point for launching an IPython kernel.\n"
     ]
    }
   ],
   "source": [
    "data['old_metro_']=pd.Series(data['old_metro_']).convert_objects(convert_numeric=True)"
   ]
  },
  {
   "cell_type": "code",
   "execution_count": 340,
   "metadata": {},
   "outputs": [
    {
     "name": "stderr",
     "output_type": "stream",
     "text": [
      "C:\\Users\\pengq\\Anaconda3\\lib\\site-packages\\ipykernel_launcher.py:1: FutureWarning: convert_objects is deprecated.  Use the data-type specific converters pd.to_datetime, pd.to_timedelta and pd.to_numeric.\n",
      "  \"\"\"Entry point for launching an IPython kernel.\n"
     ]
    }
   ],
   "source": [
    "data['hos_dis']=pd.Series(data['hos_dis']).convert_objects(convert_numeric=True)"
   ]
  },
  {
   "cell_type": "code",
   "execution_count": 341,
   "metadata": {},
   "outputs": [
    {
     "name": "stderr",
     "output_type": "stream",
     "text": [
      "C:\\Users\\pengq\\Anaconda3\\lib\\site-packages\\ipykernel_launcher.py:1: FutureWarning: convert_objects is deprecated.  Use the data-type specific converters pd.to_datetime, pd.to_timedelta and pd.to_numeric.\n",
      "  \"\"\"Entry point for launching an IPython kernel.\n"
     ]
    }
   ],
   "source": [
    "data['bus_dis']=pd.Series(data['bus_dis']).convert_objects(convert_numeric=True)"
   ]
  },
  {
   "cell_type": "code",
   "execution_count": 355,
   "metadata": {},
   "outputs": [
    {
     "name": "stderr",
     "output_type": "stream",
     "text": [
      "C:\\Users\\pengq\\Anaconda3\\lib\\site-packages\\ipykernel_launcher.py:1: FutureWarning: convert_objects is deprecated.  Use the data-type specific converters pd.to_datetime, pd.to_timedelta and pd.to_numeric.\n",
      "  \"\"\"Entry point for launching an IPython kernel.\n"
     ]
    }
   ],
   "source": [
    "data['CurrentRen']=pd.Series(data['CurrentRen']).convert_objects(convert_numeric=True)"
   ]
  },
  {
   "cell_type": "code",
   "execution_count": 356,
   "metadata": {
    "collapsed": true
   },
   "outputs": [
    {
     "data": {
      "text/plain": [
       "CurrentRen                   float64\n",
       "Age                            int64\n",
       "old_metro_                   float64\n",
       "new_metro_                   float64\n",
       "hos_dis                      float64\n",
       "shop_dis                     float64\n",
       "bus_dis                      float64\n",
       "Bedrooms_One                   uint8\n",
       "Bedrooms_Other                 uint8\n",
       "Bedrooms_Three                 uint8\n",
       "Bedrooms_Two                   uint8\n",
       "Bedrooms_Zero                  uint8\n",
       "Vacant_Y                       uint8\n",
       "StructureT_H                   uint8\n",
       "StructureT_M                   uint8\n",
       "StructureT_T                   uint8\n",
       "StructureT_X                   uint8\n",
       "Program_AR HOME                uint8\n",
       "Program_BM                     uint8\n",
       "Program_HIF                    uint8\n",
       "Program_HOME                   uint8\n",
       "Program_MPDU                   uint8\n",
       "Program_MPDU OTH OV            uint8\n",
       "Program_MPDU S8                uint8\n",
       "Program_MPDU TC                uint8\n",
       "Program_MPDU TC AR HOME        uint8\n",
       "Program_MPDU TC OTH OV         uint8\n",
       "Program_MPDU TC OTH OV AR      uint8\n",
       "Program_MPDU TC WF             uint8\n",
       "Program_MPDU WF                uint8\n",
       "                              ...   \n",
       "Program_S236 TC OTH OV         uint8\n",
       "Program_S8                     uint8\n",
       "Program_S8  S236 TC            uint8\n",
       "Program_S8 AR                  uint8\n",
       "Program_S8 HIF                 uint8\n",
       "Program_S8 OTH OV              uint8\n",
       "Program_S8 PH TC               uint8\n",
       "Program_S8 S202                uint8\n",
       "Program_S8 S202 AR             uint8\n",
       "Program_S8 S202 TC             uint8\n",
       "Program_S8 TC                  uint8\n",
       "Program_S8 TC AR               uint8\n",
       "Program_S8 TC HIF              uint8\n",
       "Program_S8 TC HOME             uint8\n",
       "Program_S8 TC OTH OV HOME      uint8\n",
       "Program_TC                     uint8\n",
       "Program_TC AR                  uint8\n",
       "Program_TC HIF                 uint8\n",
       "Program_TC HOME                uint8\n",
       "Program_TC OTH OV              uint8\n",
       "Program_TC OTH OV AR           uint8\n",
       "Amenities_Y                    uint8\n",
       "LaundryInc_Y                   uint8\n",
       "UtilitiesI_Y                   uint8\n",
       "Police_DIST_Five               uint8\n",
       "Police_DIST_Four               uint8\n",
       "Police_DIST_One                uint8\n",
       "Police_DIST_Six                uint8\n",
       "Police_DIST_Three              uint8\n",
       "Police_DIST_Two                uint8\n",
       "Length: 71, dtype: object"
      ]
     },
     "execution_count": 356,
     "metadata": {},
     "output_type": "execute_result"
    }
   ],
   "source": [
    "data.dtypes"
   ]
  },
  {
   "cell_type": "code",
   "execution_count": 357,
   "metadata": {
    "collapsed": true
   },
   "outputs": [
    {
     "data": {
      "text/plain": [
       "CurrentRen                   1\n",
       "Age                          0\n",
       "old_metro_                   0\n",
       "new_metro_                   0\n",
       "hos_dis                      0\n",
       "shop_dis                     0\n",
       "bus_dis                      0\n",
       "Bedrooms_One                 0\n",
       "Bedrooms_Other               0\n",
       "Bedrooms_Three               0\n",
       "Bedrooms_Two                 0\n",
       "Bedrooms_Zero                0\n",
       "Vacant_Y                     0\n",
       "StructureT_H                 0\n",
       "StructureT_M                 0\n",
       "StructureT_T                 0\n",
       "StructureT_X                 0\n",
       "Program_AR HOME              0\n",
       "Program_BM                   0\n",
       "Program_HIF                  0\n",
       "Program_HOME                 0\n",
       "Program_MPDU                 0\n",
       "Program_MPDU OTH OV          0\n",
       "Program_MPDU S8              0\n",
       "Program_MPDU TC              0\n",
       "Program_MPDU TC AR HOME      0\n",
       "Program_MPDU TC OTH OV       0\n",
       "Program_MPDU TC OTH OV AR    0\n",
       "Program_MPDU TC WF           0\n",
       "Program_MPDU WF              0\n",
       "                            ..\n",
       "Program_S236 TC OTH OV       0\n",
       "Program_S8                   0\n",
       "Program_S8  S236 TC          0\n",
       "Program_S8 AR                0\n",
       "Program_S8 HIF               0\n",
       "Program_S8 OTH OV            0\n",
       "Program_S8 PH TC             0\n",
       "Program_S8 S202              0\n",
       "Program_S8 S202 AR           0\n",
       "Program_S8 S202 TC           0\n",
       "Program_S8 TC                0\n",
       "Program_S8 TC AR             0\n",
       "Program_S8 TC HIF            0\n",
       "Program_S8 TC HOME           0\n",
       "Program_S8 TC OTH OV HOME    0\n",
       "Program_TC                   0\n",
       "Program_TC AR                0\n",
       "Program_TC HIF               0\n",
       "Program_TC HOME              0\n",
       "Program_TC OTH OV            0\n",
       "Program_TC OTH OV AR         0\n",
       "Amenities_Y                  0\n",
       "LaundryInc_Y                 0\n",
       "UtilitiesI_Y                 0\n",
       "Police_DIST_Five             0\n",
       "Police_DIST_Four             0\n",
       "Police_DIST_One              0\n",
       "Police_DIST_Six              0\n",
       "Police_DIST_Three            0\n",
       "Police_DIST_Two              0\n",
       "Length: 71, dtype: int64"
      ]
     },
     "execution_count": 357,
     "metadata": {},
     "output_type": "execute_result"
    }
   ],
   "source": [
    "data.isnull().sum()"
   ]
  },
  {
   "cell_type": "code",
   "execution_count": 358,
   "metadata": {
    "collapsed": true
   },
   "outputs": [],
   "source": [
    "data=data.dropna(axis=0, how='any')"
   ]
  },
  {
   "cell_type": "code",
   "execution_count": 359,
   "metadata": {
    "collapsed": true
   },
   "outputs": [],
   "source": [
    "X_train_test=data.drop(['new_metro_','CurrentRen'], 1)"
   ]
  },
  {
   "cell_type": "code",
   "execution_count": 360,
   "metadata": {
    "collapsed": true
   },
   "outputs": [],
   "source": [
    "Y_train_test=data['CurrentRen']"
   ]
  },
  {
   "cell_type": "code",
   "execution_count": null,
   "metadata": {
    "collapsed": true
   },
   "outputs": [],
   "source": []
  },
  {
   "cell_type": "code",
   "execution_count": 361,
   "metadata": {},
   "outputs": [
    {
     "data": {
      "text/html": [
       "<div>\n",
       "<style>\n",
       "    .dataframe thead tr:only-child th {\n",
       "        text-align: right;\n",
       "    }\n",
       "\n",
       "    .dataframe thead th {\n",
       "        text-align: left;\n",
       "    }\n",
       "\n",
       "    .dataframe tbody tr th {\n",
       "        vertical-align: top;\n",
       "    }\n",
       "</style>\n",
       "<table border=\"1\" class=\"dataframe\">\n",
       "  <thead>\n",
       "    <tr style=\"text-align: right;\">\n",
       "      <th></th>\n",
       "      <th>Age</th>\n",
       "      <th>old_metro_</th>\n",
       "      <th>hos_dis</th>\n",
       "      <th>shop_dis</th>\n",
       "      <th>bus_dis</th>\n",
       "      <th>Bedrooms_One</th>\n",
       "      <th>Bedrooms_Other</th>\n",
       "      <th>Bedrooms_Three</th>\n",
       "      <th>Bedrooms_Two</th>\n",
       "      <th>Bedrooms_Zero</th>\n",
       "      <th>...</th>\n",
       "      <th>Program_TC OTH OV AR</th>\n",
       "      <th>Amenities_Y</th>\n",
       "      <th>LaundryInc_Y</th>\n",
       "      <th>UtilitiesI_Y</th>\n",
       "      <th>Police_DIST_Five</th>\n",
       "      <th>Police_DIST_Four</th>\n",
       "      <th>Police_DIST_One</th>\n",
       "      <th>Police_DIST_Six</th>\n",
       "      <th>Police_DIST_Three</th>\n",
       "      <th>Police_DIST_Two</th>\n",
       "    </tr>\n",
       "    <tr>\n",
       "      <th>LicenseNum</th>\n",
       "      <th></th>\n",
       "      <th></th>\n",
       "      <th></th>\n",
       "      <th></th>\n",
       "      <th></th>\n",
       "      <th></th>\n",
       "      <th></th>\n",
       "      <th></th>\n",
       "      <th></th>\n",
       "      <th></th>\n",
       "      <th></th>\n",
       "      <th></th>\n",
       "      <th></th>\n",
       "      <th></th>\n",
       "      <th></th>\n",
       "      <th></th>\n",
       "      <th></th>\n",
       "      <th></th>\n",
       "      <th></th>\n",
       "      <th></th>\n",
       "      <th></th>\n",
       "    </tr>\n",
       "  </thead>\n",
       "  <tbody>\n",
       "    <tr>\n",
       "      <th>17517</th>\n",
       "      <td>83</td>\n",
       "      <td>4783.805140</td>\n",
       "      <td>1558.549257</td>\n",
       "      <td>1140.748014</td>\n",
       "      <td>1558.549257</td>\n",
       "      <td>0</td>\n",
       "      <td>0</td>\n",
       "      <td>0</td>\n",
       "      <td>1</td>\n",
       "      <td>0</td>\n",
       "      <td>...</td>\n",
       "      <td>0</td>\n",
       "      <td>0</td>\n",
       "      <td>1</td>\n",
       "      <td>0</td>\n",
       "      <td>0</td>\n",
       "      <td>0</td>\n",
       "      <td>0</td>\n",
       "      <td>0</td>\n",
       "      <td>0</td>\n",
       "      <td>1</td>\n",
       "    </tr>\n",
       "    <tr>\n",
       "      <th>17517</th>\n",
       "      <td>83</td>\n",
       "      <td>4783.805140</td>\n",
       "      <td>1558.549257</td>\n",
       "      <td>1140.748014</td>\n",
       "      <td>1558.549257</td>\n",
       "      <td>0</td>\n",
       "      <td>0</td>\n",
       "      <td>0</td>\n",
       "      <td>1</td>\n",
       "      <td>0</td>\n",
       "      <td>...</td>\n",
       "      <td>0</td>\n",
       "      <td>0</td>\n",
       "      <td>1</td>\n",
       "      <td>0</td>\n",
       "      <td>0</td>\n",
       "      <td>0</td>\n",
       "      <td>0</td>\n",
       "      <td>0</td>\n",
       "      <td>0</td>\n",
       "      <td>1</td>\n",
       "    </tr>\n",
       "    <tr>\n",
       "      <th>17517</th>\n",
       "      <td>83</td>\n",
       "      <td>4783.805140</td>\n",
       "      <td>1558.549257</td>\n",
       "      <td>1140.748014</td>\n",
       "      <td>1558.549257</td>\n",
       "      <td>0</td>\n",
       "      <td>0</td>\n",
       "      <td>0</td>\n",
       "      <td>1</td>\n",
       "      <td>0</td>\n",
       "      <td>...</td>\n",
       "      <td>0</td>\n",
       "      <td>0</td>\n",
       "      <td>1</td>\n",
       "      <td>0</td>\n",
       "      <td>0</td>\n",
       "      <td>0</td>\n",
       "      <td>0</td>\n",
       "      <td>0</td>\n",
       "      <td>0</td>\n",
       "      <td>1</td>\n",
       "    </tr>\n",
       "    <tr>\n",
       "      <th>18225</th>\n",
       "      <td>60</td>\n",
       "      <td>4238.007154</td>\n",
       "      <td>1418.945878</td>\n",
       "      <td>690.244207</td>\n",
       "      <td>1418.945878</td>\n",
       "      <td>1</td>\n",
       "      <td>0</td>\n",
       "      <td>0</td>\n",
       "      <td>0</td>\n",
       "      <td>0</td>\n",
       "      <td>...</td>\n",
       "      <td>0</td>\n",
       "      <td>1</td>\n",
       "      <td>1</td>\n",
       "      <td>1</td>\n",
       "      <td>0</td>\n",
       "      <td>0</td>\n",
       "      <td>0</td>\n",
       "      <td>0</td>\n",
       "      <td>0</td>\n",
       "      <td>1</td>\n",
       "    </tr>\n",
       "    <tr>\n",
       "      <th>18225</th>\n",
       "      <td>60</td>\n",
       "      <td>4238.007154</td>\n",
       "      <td>1418.945878</td>\n",
       "      <td>690.244207</td>\n",
       "      <td>1418.945878</td>\n",
       "      <td>0</td>\n",
       "      <td>0</td>\n",
       "      <td>0</td>\n",
       "      <td>1</td>\n",
       "      <td>0</td>\n",
       "      <td>...</td>\n",
       "      <td>0</td>\n",
       "      <td>1</td>\n",
       "      <td>1</td>\n",
       "      <td>1</td>\n",
       "      <td>0</td>\n",
       "      <td>0</td>\n",
       "      <td>0</td>\n",
       "      <td>0</td>\n",
       "      <td>0</td>\n",
       "      <td>1</td>\n",
       "    </tr>\n",
       "  </tbody>\n",
       "</table>\n",
       "<p>5 rows × 69 columns</p>\n",
       "</div>"
      ],
      "text/plain": [
       "            Age   old_metro_      hos_dis     shop_dis      bus_dis  \\\n",
       "LicenseNum                                                            \n",
       "17517        83  4783.805140  1558.549257  1140.748014  1558.549257   \n",
       "17517        83  4783.805140  1558.549257  1140.748014  1558.549257   \n",
       "17517        83  4783.805140  1558.549257  1140.748014  1558.549257   \n",
       "18225        60  4238.007154  1418.945878   690.244207  1418.945878   \n",
       "18225        60  4238.007154  1418.945878   690.244207  1418.945878   \n",
       "\n",
       "            Bedrooms_One  Bedrooms_Other  Bedrooms_Three  Bedrooms_Two  \\\n",
       "LicenseNum                                                               \n",
       "17517                  0               0               0             1   \n",
       "17517                  0               0               0             1   \n",
       "17517                  0               0               0             1   \n",
       "18225                  1               0               0             0   \n",
       "18225                  0               0               0             1   \n",
       "\n",
       "            Bedrooms_Zero       ...         Program_TC OTH OV AR  Amenities_Y  \\\n",
       "LicenseNum                      ...                                             \n",
       "17517                   0       ...                            0            0   \n",
       "17517                   0       ...                            0            0   \n",
       "17517                   0       ...                            0            0   \n",
       "18225                   0       ...                            0            1   \n",
       "18225                   0       ...                            0            1   \n",
       "\n",
       "            LaundryInc_Y  UtilitiesI_Y  Police_DIST_Five  Police_DIST_Four  \\\n",
       "LicenseNum                                                                   \n",
       "17517                  1             0                 0                 0   \n",
       "17517                  1             0                 0                 0   \n",
       "17517                  1             0                 0                 0   \n",
       "18225                  1             1                 0                 0   \n",
       "18225                  1             1                 0                 0   \n",
       "\n",
       "            Police_DIST_One  Police_DIST_Six  Police_DIST_Three  \\\n",
       "LicenseNum                                                        \n",
       "17517                     0                0                  0   \n",
       "17517                     0                0                  0   \n",
       "17517                     0                0                  0   \n",
       "18225                     0                0                  0   \n",
       "18225                     0                0                  0   \n",
       "\n",
       "            Police_DIST_Two  \n",
       "LicenseNum                   \n",
       "17517                     1  \n",
       "17517                     1  \n",
       "17517                     1  \n",
       "18225                     1  \n",
       "18225                     1  \n",
       "\n",
       "[5 rows x 69 columns]"
      ]
     },
     "execution_count": 361,
     "metadata": {},
     "output_type": "execute_result"
    }
   ],
   "source": [
    "X_train_test.head()"
   ]
  },
  {
   "cell_type": "code",
   "execution_count": 362,
   "metadata": {},
   "outputs": [
    {
     "data": {
      "text/plain": [
       "LicenseNum\n",
       "17517    1950.0\n",
       "17517    1975.0\n",
       "17517    2025.0\n",
       "18225    1191.0\n",
       "18225    1412.0\n",
       "Name: CurrentRen, dtype: float64"
      ]
     },
     "execution_count": 362,
     "metadata": {},
     "output_type": "execute_result"
    }
   ],
   "source": [
    "Y_train_test.head()"
   ]
  },
  {
   "cell_type": "code",
   "execution_count": 363,
   "metadata": {
    "collapsed": true
   },
   "outputs": [],
   "source": [
    "X_predict=data.drop(['old_metro_','CurrentRen'], 1)"
   ]
  },
  {
   "cell_type": "code",
   "execution_count": null,
   "metadata": {
    "collapsed": true
   },
   "outputs": [],
   "source": []
  },
  {
   "cell_type": "code",
   "execution_count": 364,
   "metadata": {
    "collapsed": true
   },
   "outputs": [],
   "source": [
    "X_train_test.to_csv(\"X_train_test.csv\")\n",
    "Y_train_test.to_csv(\"Y_train_test.csv\")\n",
    "X_predict.to_csv(\"X_predict.csv\")"
   ]
  },
  {
   "cell_type": "code",
   "execution_count": null,
   "metadata": {
    "collapsed": true
   },
   "outputs": [],
   "source": []
  },
  {
   "cell_type": "code",
   "execution_count": null,
   "metadata": {
    "collapsed": true
   },
   "outputs": [],
   "source": []
  }
 ],
 "metadata": {
  "kernelspec": {
   "display_name": "Python 3",
   "language": "python",
   "name": "python3"
  },
  "language_info": {
   "codemirror_mode": {
    "name": "ipython",
    "version": 3
   },
   "file_extension": ".py",
   "mimetype": "text/x-python",
   "name": "python",
   "nbconvert_exporter": "python",
   "pygments_lexer": "ipython3",
   "version": "3.6.3"
  }
 },
 "nbformat": 4,
 "nbformat_minor": 2
}
